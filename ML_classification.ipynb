{
  "cells": [
    {
      "cell_type": "code",
      "execution_count": null,
      "metadata": {
        "id": "ebNb2rNnrt7w"
      },
      "outputs": [],
      "source": [
        "import numpy as np\n",
        "from PIL import Image\n",
        "import zipfile\n",
        "with zipfile.ZipFile('/content/Data.zip', 'r') as zip_ref:\n",
        "    zip_ref.extractall('/content/')\n",
        "\n",
        "images = np.ones([2400,785])"
      ]
    },
    {
      "cell_type": "code",
      "execution_count": null,
      "metadata": {
        "id": "ZGzMf6JPsB_8"
      },
      "outputs": [],
      "source": [
        "def getXTilda():\n",
        "    path = \"/content/Data/Train/\"\n",
        "    X = np.ones([2400, 785 ])\n",
        "    label = np.genfromtxt(\"/content/Training Labels.txt\", delimiter = \",\")\n",
        "    for i in range(2400):\n",
        "        curri = i+1\n",
        "        newpath = path + str(curri) + \".jpg\"\n",
        "        img = Image.open(newpath)\n",
        "        image = np.asarray(img).flatten()\n",
        "        image = np.append(image,label[i])\n",
        "    X[i] =  image\n",
        "    return X\n",
        "x = getXTilda()"
      ]
    },
    {
      "cell_type": "code",
      "execution_count": null,
      "metadata": {
        "id": "KRnjwWd3sEAU"
      },
      "outputs": [],
      "source": [
        "def getT(number):\n",
        "    T = np.ones([2400])\n",
        "    T *= -1\n",
        "    start =  number*240\n",
        "    for i in range (240):\n",
        "        T[start+i] *=-1\n",
        "    return T\n",
        "\n",
        "getT(0)"
      ]
    },
    {
      "cell_type": "code",
      "execution_count": null,
      "metadata": {
        "id": "ahfKMeYjsKXT"
      },
      "outputs": [],
      "source": [
        "def getA(X):\n",
        "    Xtranspose = X.transpose()\n",
        "    dotProduct = Xtranspose.dot(X)\n",
        "    inverse = np.linalg.pinv(dotProduct)\n",
        "    A = inverse.dot(Xtranspose)\n",
        "    return A"
      ]
    },
    {
      "cell_type": "code",
      "execution_count": null,
      "metadata": {
        "id": "ft8ybSGFwUuU"
      },
      "outputs": [],
      "source": [
        "def getW(A , T):\n",
        "  return A.dot(T)"
      ]
    },
    {
      "cell_type": "code",
      "execution_count": null,
      "metadata": {
        "id": "O7fU8aGusMgr"
      },
      "outputs": [],
      "source": [
        "def test(path):\n",
        "    X = getXTilda()\n",
        "    A = getA(X)\n",
        "    resultLabels = np.ones([200])\n",
        "\n",
        "    for i in range(200):\n",
        "        curri = i+1\n",
        "        newpath = path + str(curri) + \".jpg\"\n",
        "        img = Image.open(newpath)\n",
        "        image = np.asarray(img).flatten()\n",
        "        image = np.append(image, [1])\n",
        "        outputWeights = np.zeros([10])\n",
        "        for j in range(10):\n",
        "            currW = getW(A, getT(j));\n",
        "            outputWeights[j] = image.dot(currW)\n",
        "        maxElement = np.amax(outputWeights)\n",
        "        index = np.where(outputWeights == maxElement)\n",
        "        resultLabels[i] = index[0][0]\n",
        "    return resultLabels\n",
        "\n"
      ]
    },
    {
      "cell_type": "code",
      "execution_count": null,
      "metadata": {
        "id": "o8PMcAHssNUD"
      },
      "outputs": [],
      "source": [
        "originalLabels = np.genfromtxt(\"/content/Test Labels.txt\", delimiter = \",\")\n",
        "originalLabels.size"
      ]
    },
    {
      "cell_type": "code",
      "execution_count": null,
      "metadata": {
        "id": "FjQbsmaWsT37"
      },
      "outputs": [],
      "source": [
        "def confusionMat(original, result):\n",
        "    cm = np.zeros([10, 10])\n",
        "    for i in range(len(original)):\n",
        "        cm[int(original[i])][int(result[i])] += 1\n",
        "\n",
        "    return cm.astype(int)"
      ]
    },
    {
      "cell_type": "code",
      "execution_count": null,
      "metadata": {
        "id": "ZYfgeaCoxGMi"
      },
      "outputs": [],
      "source": [
        "resultLabels = test(\"/content/Data/Test/\")\n",
        "resultLabels.size"
      ]
    },
    {
      "cell_type": "code",
      "execution_count": null,
      "metadata": {
        "id": "Nb4M5UbIw1yj"
      },
      "outputs": [],
      "source": [
        "cm = confusionMat(originalLabels, test(\"/content/Data/Test/\"))\n",
        "cm"
      ]
    },
    {
      "cell_type": "code",
      "execution_count": null,
      "metadata": {
        "id": "hA49FYy-w4LT"
      },
      "outputs": [],
      "source": [
        "import matplotlib.pyplot as plt\n",
        "def plot_cm(y_true, y_pred, classes, cm, title=None):\n",
        "    fig, ax = plt.subplots()\n",
        "    im = ax.imshow(cm, interpolation='nearest', cmap=plt.cm.Blues)\n",
        "    ax.figure.colorbar(im, ax=ax)\n",
        "    ax.set(xticks=np.arange(cm.shape[1]),\n",
        "           yticks=np.arange(cm.shape[0]),\n",
        "           xticklabels=classes, yticklabels=classes,\n",
        "           title=title,\n",
        "           ylabel='True label',\n",
        "           xlabel='Predicted label')\n",
        "    thresh = cm.max() / 2.\n",
        "    for i in range(cm.shape[0]):\n",
        "        for j in range(cm.shape[1]):\n",
        "            ax.text(j, i, format(cm[i, j], 'd'),\n",
        "                    ha=\"center\", va=\"center\",\n",
        "                    color=\"white\" if cm[i, j] > thresh else \"black\")\n",
        "    fig.tight_layout()\n",
        "    return ax\n",
        "np.set_printoptions(precision=2)\n",
        "class_names = [\"0\",\"1\",\"2\",\"3\",\"4\",\"5\",\"6\",\"7\",\"8\",\"9\"]\n",
        "plot_cm(originalLabels, resultLabels, classes=class_names, cm = cm,\n",
        "                      title='Normalized confusion matrix')\n",
        "plt.savefig(\"cm.png\", dpi=None, facecolor='w', edgecolor='w',\n",
        "        orientation='portrait', papertype=None, format=None,\n",
        "        transparent=False, bbox_inches=None, pad_inches=0.1,\n",
        "        frameon=None, metadata=None)\n",
        "plt.show()"
      ]
    }
  ],
  "metadata": {
    "colab": {
      "provenance": []
    },
    "kernelspec": {
      "display_name": "Python 3",
      "name": "python3"
    },
    "language_info": {
      "name": "python"
    }
  },
  "nbformat": 4,
  "nbformat_minor": 0
}
