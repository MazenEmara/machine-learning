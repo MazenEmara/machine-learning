{
  "cells": [
    {
      "cell_type": "code",
      "execution_count": null,
      "metadata": {
        "id": "jwip3pCHtfdR"
      },
      "outputs": [],
      "source": [
        "import numpy as np\n",
        "from PIL import Image\n",
        "import zipfile\n",
        "with zipfile.ZipFile('/content/Data.zip', 'r') as zip_ref:\n",
        "    zip_ref.extractall('/content/')"
      ]
    },
    {
      "cell_type": "code",
      "execution_count": null,
      "metadata": {
        "id": "ZGzMf6JPsB_8"
      },
      "outputs": [],
      "source": [
        "#getting X telda\n",
        "TrainPath = \"/content/Data/Train/\"\n",
        "X = np.ones([2400, 785 ])\n",
        "label = np.genfromtxt(\"/content/Training Labels.txt\", delimiter = \",\")\n",
        "for i in range(2400):\n",
        "    newpath = TrainPath + str(i+1) + \".jpg\"\n",
        "    image = np.append(np.asarray(Image.open(newpath)).flatten(),[1])\n",
        "    X[i] =  image"
      ]
    },
    {
      "cell_type": "code",
      "execution_count": null,
      "metadata": {
        "colab": {
          "base_uri": "https://localhost:8080/"
        },
        "id": "bg5pUyHI-4sg",
        "outputId": "d09d0225-f461-41a6-cff9-b8bec23e3cf7"
      },
      "outputs": [
        {
          "data": {
            "text/plain": [
              "array([ 1.,  1.,  1., ..., -1., -1., -1.])"
            ]
          },
          "execution_count": 62,
          "metadata": {},
          "output_type": "execute_result"
        }
      ],
      "source": [
        "def getT(number):\n",
        "    T = np.ones([2400])\n",
        "    T *= -1\n",
        "    start =  number*240\n",
        "    for i in range (240):\n",
        "        T[start+i] *=-1\n",
        "    return T\n",
        "getT(0)"
      ]
    },
    {
      "cell_type": "code",
      "execution_count": null,
      "metadata": {
        "id": "O7fU8aGusMgr"
      },
      "outputs": [],
      "source": [
        "Function =  np.linalg.pinv(X.transpose().dot(X)).dot(X.transpose())\n",
        "resultLabels = np.ones([200])\n",
        "for i in range(200):\n",
        "  newpath = \"/content/Data/Test/\" + str(i+1) + \".jpg\"\n",
        "  image = np.append(np.asarray(Image.open(newpath)).flatten(), [1])\n",
        "  Weights = np.zeros([10])\n",
        "  for j in range(10):\n",
        "        Windex = Function.dot(getT(j)); #getting the weight\n",
        "        Weights[j] = image.dot(Windex)\n",
        "  max= np.amax(Weights)\n",
        "  index = np.where(Weights == max)\n",
        "  resultLabels[i] = index[0][0]"
      ]
    },
    {
      "cell_type": "code",
      "execution_count": null,
      "metadata": {
        "colab": {
          "base_uri": "https://localhost:8080/"
        },
        "id": "Nb4M5UbIw1yj",
        "outputId": "e871bdd6-82b8-4ed6-de0b-70e5bd49738e"
      },
      "outputs": [
        {
          "data": {
            "text/plain": [
              "array([[19,  0,  0,  0,  0,  0,  1,  0,  0,  0],\n",
              "       [ 0, 20,  0,  0,  0,  0,  0,  0,  0,  0],\n",
              "       [ 1,  3, 11,  2,  2,  1,  0,  0,  0,  0],\n",
              "       [ 0,  0,  0, 17,  0,  1,  0,  0,  2,  0],\n",
              "       [ 0,  0,  0,  0, 17,  1,  0,  1,  0,  1],\n",
              "       [ 0,  0,  0,  1,  0, 14,  1,  0,  2,  2],\n",
              "       [ 0,  0,  0,  0,  0,  0, 20,  0,  0,  0],\n",
              "       [ 0,  0,  1,  1,  0,  0,  0, 15,  0,  3],\n",
              "       [ 0,  0,  1,  0,  0,  3,  0,  0, 15,  1],\n",
              "       [ 1,  0,  0,  1,  1,  1,  0,  4,  0, 12]])"
            ]
          },
          "execution_count": 64,
          "metadata": {},
          "output_type": "execute_result"
        }
      ],
      "source": [
        "\n",
        "PathTestLabel=np.genfromtxt(\"/content/Test Labels.txt\", delimiter = \",\")\n",
        "Matrix = np.zeros([10, 10])\n",
        "for i in range(len(PathTestLabel)):\n",
        "    Matrix[int(PathTestLabel[i])][int(resultLabels[i])] += 1\n",
        "    Matrix=Matrix.astype(int)\n",
        "Matrix"
      ]
    },
    {
      "cell_type": "code",
      "execution_count": null,
      "metadata": {
        "colab": {
          "base_uri": "https://localhost:8080/",
          "height": 349
        },
        "id": "hA49FYy-w4LT",
        "outputId": "d3cbcded-f850-42f8-aa64-4e6d4544c74e"
      },
      "outputs": [
        {
          "name": "stderr",
          "output_type": "stream",
          "text": [
            "<ipython-input-65-37d1943920b5>:24: MatplotlibDeprecationWarning: \n",
            "The frameon kwarg was deprecated in Matplotlib 3.1 and will be removed in 3.3. Use facecolor instead.\n",
            "  plt.savefig(\"confusion.png\", dpi=None, facecolor='w', edgecolor='w',\n"
          ]
        },
        {
          "data": {
            "image/png": "[encoded data removed]",
            "text/plain": [
              "<Figure size 432x288 with 2 Axes>"
            ]
          },
          "metadata": {
            "needs_background": "light"
          },
          "output_type": "display_data"
        }
      ],
      "source": [
        "import matplotlib.pyplot as plt\n",
        "def plot_cm(y_true, y_pred, classes, Matrix, title=None):\n",
        "    fig, ax = plt.subplots()\n",
        "    im = ax.imshow(Matrix, interpolation='nearest', cmap=plt.cm.Reds)\n",
        "    ax.figure.colorbar(im, ax=ax)\n",
        "    ax.set(xticks=np.arange(Matrix.shape[1]),\n",
        "           yticks=np.arange(Matrix.shape[0]),\n",
        "           xticklabels=classes, yticklabels=classes,\n",
        "           title=title,\n",
        "           ylabel='True label',\n",
        "           xlabel='Predicted label')\n",
        "    thresh = Matrix.max() / 2.\n",
        "    for i in range(Matrix.shape[0]):\n",
        "        for j in range(Matrix.shape[1]):\n",
        "            ax.text(j, i, format(Matrix[i, j], 'd'),\n",
        "                    ha=\"center\", va=\"center\",\n",
        "                    color=\"white\" if Matrix[i, j] > thresh else \"black\")\n",
        "    fig.tight_layout()\n",
        "    return ax\n",
        "np.set_printoptions(precision=2)\n",
        "class_names = [\"0\",\"1\",\"2\",\"3\",\"4\",\"5\",\"6\",\"7\",\"8\",\"9\"]\n",
        "plot_cm(np.genfromtxt(\"/content/Test Labels.txt\", delimiter = \",\"), resultLabels, classes=class_names, Matrix = Matrix,\n",
        "                      title='Normalized confusion matrix')\n",
        "plt.savefig(\"confusion.png\", dpi=None, facecolor='w', edgecolor='w',\n",
        "        orientation='portrait', papertype=None, format=None,\n",
        "        transparent=False, bbox_inches=None, pad_inches=0.1,\n",
        "        frameon=None, metadata=None)\n",
        "plt.show()"
      ]
    }
  ],
  "metadata": {
    "colab": {
      "provenance": []
    },
    "kernelspec": {
      "display_name": "Python 3",
      "name": "python3"
    },
    "language_info": {
      "name": "python"
    }
  },
  "nbformat": 4,
  "nbformat_minor": 0
}
