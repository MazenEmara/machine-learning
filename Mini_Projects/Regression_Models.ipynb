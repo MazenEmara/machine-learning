{
  "cells": [
    {
      "cell_type": "markdown",
      "metadata": {
        "id": "1npV1mApugN3"
      },
      "source": [
        "Linear Regression"
      ]
    },
    {
      "cell_type": "code",
      "execution_count": null,
      "metadata": {
        "colab": {
          "base_uri": "https://localhost:8080/",
          "height": 206
        },
        "id": "KHt3hG4bmWXY",
        "outputId": "d64f00cf-bb3c-4f0f-8c7a-cb52f43b83eb"
      },
      "outputs": [
        {
          "data": {
            "text/html": [
              "\n",
              "  <div id=\"df-6dcc5014-977e-48df-a3fc-376c33cf7c02\">\n",
              "    <div class=\"colab-df-container\">\n",
              "      <div>\n",
              "<style scoped>\n",
              "    .dataframe tbody tr th:only-of-type {\n",
              "        vertical-align: middle;\n",
              "    }\n",
              "\n",
              "    .dataframe tbody tr th {\n",
              "        vertical-align: top;\n",
              "    }\n",
              "\n",
              "    .dataframe thead th {\n",
              "        text-align: right;\n",
              "    }\n",
              "</style>\n",
              "<table border=\"1\" class=\"dataframe\">\n",
              "  <thead>\n",
              "    <tr style=\"text-align: right;\">\n",
              "      <th></th>\n",
              "      <th>TV</th>\n",
              "      <th>radio</th>\n",
              "      <th>newspaper</th>\n",
              "      <th>sales</th>\n",
              "    </tr>\n",
              "  </thead>\n",
              "  <tbody>\n",
              "    <tr>\n",
              "      <th>0</th>\n",
              "      <td>230.1</td>\n",
              "      <td>37.8</td>\n",
              "      <td>69.2</td>\n",
              "      <td>22.1</td>\n",
              "    </tr>\n",
              "    <tr>\n",
              "      <th>1</th>\n",
              "      <td>44.5</td>\n",
              "      <td>39.3</td>\n",
              "      <td>45.1</td>\n",
              "      <td>10.4</td>\n",
              "    </tr>\n",
              "    <tr>\n",
              "      <th>2</th>\n",
              "      <td>17.2</td>\n",
              "      <td>45.9</td>\n",
              "      <td>69.3</td>\n",
              "      <td>9.3</td>\n",
              "    </tr>\n",
              "    <tr>\n",
              "      <th>3</th>\n",
              "      <td>151.5</td>\n",
              "      <td>41.3</td>\n",
              "      <td>58.5</td>\n",
              "      <td>18.5</td>\n",
              "    </tr>\n",
              "    <tr>\n",
              "      <th>4</th>\n",
              "      <td>180.8</td>\n",
              "      <td>10.8</td>\n",
              "      <td>58.4</td>\n",
              "      <td>12.9</td>\n",
              "    </tr>\n",
              "  </tbody>\n",
              "</table>\n",
              "</div>\n",
              "      <button class=\"colab-df-convert\" onclick=\"convertToInteractive('df-6dcc5014-977e-48df-a3fc-376c33cf7c02')\"\n",
              "              title=\"Convert this dataframe to an interactive table.\"\n",
              "              style=\"display:none;\">\n",
              "        \n",
              "  <svg xmlns=\"http://www.w3.org/2000/svg\" height=\"24px\"viewBox=\"0 0 24 24\"\n",
              "       width=\"24px\">\n",
              "    <path d=\"M0 0h24v24H0V0z\" fill=\"none\"/>\n",
              "    <path d=\"M18.56 5.44l.94 2.06.94-2.06 2.06-.94-2.06-.94-.94-2.06-.94 2.06-2.06.94zm-11 1L8.5 8.5l.94-2.06 2.06-.94-2.06-.94L8.5 2.5l-.94 2.06-2.06.94zm10 10l.94 2.06.94-2.06 2.06-.94-2.06-.94-.94-2.06-.94 2.06-2.06.94z\"/><path d=\"M17.41 7.96l-1.37-1.37c-.4-.4-.92-.59-1.43-.59-.52 0-1.04.2-1.43.59L10.3 9.45l-7.72 7.72c-.78.78-.78 2.05 0 2.83L4 21.41c.39.39.9.59 1.41.59.51 0 1.02-.2 1.41-.59l7.78-7.78 2.81-2.81c.8-.78.8-2.07 0-2.86zM5.41 20L4 18.59l7.72-7.72 1.47 1.35L5.41 20z\"/>\n",
              "  </svg>\n",
              "      </button>\n",
              "      \n",
              "  <style>\n",
              "    .colab-df-container {\n",
              "      display:flex;\n",
              "      flex-wrap:wrap;\n",
              "      gap: 12px;\n",
              "    }\n",
              "\n",
              "    .colab-df-convert {\n",
              "      background-color: #E8F0FE;\n",
              "      border: none;\n",
              "      border-radius: 50%;\n",
              "      cursor: pointer;\n",
              "      display: none;\n",
              "      fill: #1967D2;\n",
              "      height: 32px;\n",
              "      padding: 0 0 0 0;\n",
              "      width: 32px;\n",
              "    }\n",
              "\n",
              "    .colab-df-convert:hover {\n",
              "      background-color: #E2EBFA;\n",
              "      box-shadow: 0px 1px 2px rgba(60, 64, 67, 0.3), 0px 1px 3px 1px rgba(60, 64, 67, 0.15);\n",
              "      fill: #174EA6;\n",
              "    }\n",
              "\n",
              "    [theme=dark] .colab-df-convert {\n",
              "      background-color: #3B4455;\n",
              "      fill: #D2E3FC;\n",
              "    }\n",
              "\n",
              "    [theme=dark] .colab-df-convert:hover {\n",
              "      background-color: #434B5C;\n",
              "      box-shadow: 0px 1px 3px 1px rgba(0, 0, 0, 0.15);\n",
              "      filter: drop-shadow(0px 1px 2px rgba(0, 0, 0, 0.3));\n",
              "      fill: #FFFFFF;\n",
              "    }\n",
              "  </style>\n",
              "\n",
              "      <script>\n",
              "        const buttonEl =\n",
              "          document.querySelector('#df-6dcc5014-977e-48df-a3fc-376c33cf7c02 button.colab-df-convert');\n",
              "        buttonEl.style.display =\n",
              "          google.colab.kernel.accessAllowed ? 'block' : 'none';\n",
              "\n",
              "        async function convertToInteractive(key) {\n",
              "          const element = document.querySelector('#df-6dcc5014-977e-48df-a3fc-376c33cf7c02');\n",
              "          const dataTable =\n",
              "            await google.colab.kernel.invokeFunction('convertToInteractive',\n",
              "                                                     [key], {});\n",
              "          if (!dataTable) return;\n",
              "\n",
              "          const docLinkHtml = 'Like what you see? Visit the ' +\n",
              "            '<a target=\"_blank\" href=https://colab.research.google.com/notebooks/data_table.ipynb>data table notebook</a>'\n",
              "            + ' to learn more about interactive tables.';\n",
              "          element.innerHTML = '';\n",
              "          dataTable['output_type'] = 'display_data';\n",
              "          await google.colab.output.renderOutput(dataTable, element);\n",
              "          const docLink = document.createElement('div');\n",
              "          docLink.innerHTML = docLinkHtml;\n",
              "          element.appendChild(docLink);\n",
              "        }\n",
              "      </script>\n",
              "    </div>\n",
              "  </div>\n",
              "  "
            ],
            "text/plain": [
              "      TV  radio  newspaper  sales\n",
              "0  230.1   37.8       69.2   22.1\n",
              "1   44.5   39.3       45.1   10.4\n",
              "2   17.2   45.9       69.3    9.3\n",
              "3  151.5   41.3       58.5   18.5\n",
              "4  180.8   10.8       58.4   12.9"
            ]
          },
          "execution_count": 224,
          "metadata": {},
          "output_type": "execute_result"
        }
      ],
      "source": [
        "import numpy as np\n",
        "import pandas as pd\n",
        "import matplotlib.pyplot as plt\n",
        "import seaborn as sns\n",
        "import joblib\n",
        "from sklearn.model_selection import train_test_split\n",
        "from sklearn.linear_model import LinearRegression\n",
        "from sklearn.metrics import mean_absolute_error,mean_squared_error\n",
        "from joblib import dump, load\n",
        "from numpy import arange\n",
        "from numpy import mean\n",
        "from numpy import std\n",
        "from numpy import absolute\n",
        "from pandas import read_csv\n",
        "from sklearn.model_selection import cross_val_score\n",
        "from sklearn.model_selection import RepeatedKFold\n",
        "from sklearn.linear_model import Ridge\n",
        "# grid search hyperparameters for ridge regression\n",
        "from sklearn.model_selection import GridSearchCV\n",
        "# load the dataset\n",
        "\n",
        "df = pd.read_csv('/content/Advertising.csv')\n",
        "df.head()"
      ]
    },
    {
      "cell_type": "code",
      "execution_count": null,
      "metadata": {
        "colab": {
          "base_uri": "https://localhost:8080/"
        },
        "id": "bqMBwKG_r3qu",
        "outputId": "d674e9c9-c196-4292-a5b6-8101030d542d"
      },
      "outputs": [
        {
          "name": "stdout",
          "output_type": "stream",
          "text": [
            "Linear MAE : 1.233375952285021 Linear MSE : 3.6913948456986083 Linear RMSE : 1.9213003007595164\n",
            "LinearModel prediction : [13.85191279]\n"
          ]
        }
      ],
      "source": [
        "X = df.drop('sales',axis=1)\n",
        "X=X.values\n",
        "y = df['sales']\n",
        "\n",
        "X_train, X_test, y_train, y_test = train_test_split(X, y, test_size=0.3, random_state=0)\n",
        "\n",
        "Linearmodel = LinearRegression()\n",
        "\n",
        "Linearmodel.fit(X_train,y_train)\n",
        "\n",
        "predictions = Linearmodel.predict(X_test)\n",
        "\n",
        "campaign = [[149,22,12]]\n",
        "\n",
        "MAE = mean_absolute_error(y_test,predictions)\n",
        "\n",
        "MSE = mean_squared_error(y_test,predictions)\n",
        "\n",
        "RMSE = np.sqrt(MSE)\n",
        "\n",
        "print(\"Linear MAE :\",MAE,\"Linear MSE :\",MSE,\"Linear RMSE :\",RMSE)\n",
        "print(\"LinearModel prediction :\",Linearmodel.predict(campaign))"
      ]
    },
    {
      "cell_type": "markdown",
      "metadata": {
        "id": "zDedivpyupQN"
      },
      "source": [
        "Ridge Regression"
      ]
    },
    {
      "cell_type": "code",
      "execution_count": null,
      "metadata": {
        "colab": {
          "base_uri": "https://localhost:8080/"
        },
        "id": "X5utoYV-0BcV",
        "outputId": "a6ce5576-c0ee-4976-9afe-b3bdbd369d21"
      },
      "outputs": [
        {
          "name": "stdout",
          "output_type": "stream",
          "text": [
            "Ridgecv score : 0.8649054724144403 Ridgecv MAE : 1.2333610272261988 Ridgecv MSE : 3.6912969786300485 Ridgecv RMSE : 1.9212748316235364\n",
            "RidgeCv prediction : [13.85189684]\n"
          ]
        }
      ],
      "source": [
        "\n",
        "\n",
        "from sklearn.linear_model import RidgeCV\n",
        "alphas = [0.000001, 0.00001, 0.0001, 0.001, 0.01, 0.1,0.5, 1]\n",
        "\n",
        "ridge_cv=RidgeCV(alphas=alphas, store_cv_values=True)\n",
        "ridge_mod = ridge_cv.fit(X_train,y_train)\n",
        "#print(ridge_mod.alpha_)\n",
        "\n",
        "#print(np.mean(ridge_mod.cv_values_, axis=0))\n",
        "\n",
        "ypred = ridge_mod.predict(X_test)\n",
        "score = ridge_mod.score(X_test,y_test)\n",
        "mse = mean_squared_error(y_test,ypred)\n",
        "mae=mean_absolute_error(y_test,ypred)\n",
        "rmse=np.sqrt(mse)\n",
        "\n",
        "print(\"Ridgecv score :\",score,\"Ridgecv MAE :\",mae,\"Ridgecv MSE :\",mse,\"Ridgecv RMSE :\",rmse)\n",
        "print(\"RidgeCv prediction :\",ridge_mod.predict(campaign))\n"
      ]
    },
    {
      "cell_type": "code",
      "execution_count": null,
      "metadata": {
        "colab": {
          "base_uri": "https://localhost:8080/",
          "height": 265
        },
        "id": "g_HnPiAA46ZR",
        "outputId": "3ce66847-0a40-4eb9-a797-06a2260229cc"
      },
      "outputs": [
        {
          "data": {
            "image/png": "[encoded data removed]",
            "text/plain": [
              "<Figure size 432x288 with 1 Axes>"
            ]
          },
          "metadata": {
            "needs_background": "light"
          },
          "output_type": "display_data"
        }
      ],
      "source": [
        "x_ax = range(len(X_test))\n",
        "plt.scatter(x_ax, y_test, s=5, color=\"blue\", label=\"original\")\n",
        "plt.plot(x_ax, ypred, lw=0.8, color=\"red\", label=\"predicted\")\n",
        "plt.legend()\n",
        "plt.show()"
      ]
    },
    {
      "cell_type": "markdown",
      "metadata": {
        "id": "nS_aKzJDDH2E"
      },
      "source": [
        "Poly regression\n"
      ]
    },
    {
      "cell_type": "code",
      "execution_count": null,
      "metadata": {
        "id": "iKPs9KOYBT-W"
      },
      "outputs": [],
      "source": [
        "from sklearn.preprocessing import PolynomialFeatures\n",
        "from sklearn.pipeline import make_pipeline\n",
        "\n",
        "dataset = pd.read_csv('/content/Advertising.csv')\n",
        "\n",
        "\n",
        "# splitting the data set into the value that needs to be predicted and the other values\n",
        "\n",
        "X = dataset.iloc[:, 0:-1].values\n",
        "y = dataset.iloc[:, -1].values\n",
        "\n",
        "\n",
        "# getting an array with the degree and its corresponding rmse so we could plot them and see the error complexity (polynomial degree)\n",
        "\n",
        "deg = 1\n",
        "errDegree = []\n",
        "errRmse = []\n",
        "errRmse2 = []\n",
        "for i in range(10):\n",
        " poly = PolynomialFeatures(degree= deg, include_bias=False)\n",
        " poly_features = poly.fit_transform(X)\n",
        "\n",
        "#splitting the data into train and test\n",
        "\n",
        " X_train, X_test, y_train, y_test = train_test_split(poly_features, y, test_size=0.3, random_state=101)\n",
        "\n",
        "# fitting the data into the model\n",
        "\n",
        " poly_reg_model = LinearRegression()\n",
        " poly_reg_model.fit(X_train, y_train)\n",
        "\n",
        "\n",
        " poly_reg_y_predicted = poly_reg_model.predict(X_test)\n",
        " poly_reg_y_train = poly_reg_model.predict(X_train)\n",
        "\n",
        " poly_reg_rmse_test = np.sqrt(mean_squared_error(y_test, poly_reg_y_predicted))\n",
        " poly_reg_rmse_train = np.sqrt(mean_squared_error(y_train, poly_reg_y_train))\n",
        "\n",
        "#creating the array taht contains the rmse errors for both training and testing\n",
        "\n",
        " errDegree.append(deg)\n",
        " errRmse.append(poly_reg_rmse_test)\n",
        " errRmse2.append(poly_reg_rmse_train)\n",
        " deg = deg + 1\n",
        "\n",
        "\n"
      ]
    },
    {
      "cell_type": "code",
      "execution_count": null,
      "metadata": {
        "colab": {
          "base_uri": "https://localhost:8080/",
          "height": 568
        },
        "id": "WIdSj7yvBpOc",
        "outputId": "911adf69-f518-4051-abe1-286071a2af85"
      },
      "outputs": [
        {
          "data": {
            "image/png": "[encoded data removed]",
            "text/plain": [
              "<Figure size 432x288 with 1 Axes>"
            ]
          },
          "metadata": {
            "needs_background": "light"
          },
          "output_type": "display_data"
        },
        {
          "name": "stdout",
          "output_type": "stream",
          "text": [
            "after the sixth degree the error starts to exponentially grow and the lower values wont appear accuratly\n"
          ]
        },
        {
          "data": {
            "image/png": "[encoded data removed]",
            "text/plain": [
              "<Figure size 432x288 with 1 Axes>"
            ]
          },
          "metadata": {
            "needs_background": "light"
          },
          "output_type": "display_data"
        }
      ],
      "source": [
        "# plotting only the test results\n",
        "\n",
        "\n",
        "plt.plot(errDegree,errRmse)\n",
        "plt.ylim([0,6])\n",
        "plt.xlim([1,6])\n",
        "plt.xlabel('Degree')\n",
        "plt.ylabel('Rmse error')\n",
        "plt.show()\n",
        "\n",
        "print(\"after the sixth degree the error starts to exponentially grow and the lower values wont appear accuratly\")\n",
        "\n",
        "#ploting both the test and the train\n",
        "\n",
        "plt.plot(errDegree ,errRmse , label = \"test\" )\n",
        "\n",
        "plt.plot(errDegree , errRmse2 , label = \"train\")\n",
        "\n",
        "plt.xlabel('Degree')\n",
        "plt.ylabel('Rmse error')\n",
        "\n",
        "plt.ylim([0,2.5])\n",
        "plt.xlim([1,6])\n",
        "plt.legend()\n",
        "plt.show()"
      ]
    },
    {
      "cell_type": "markdown",
      "metadata": {
        "id": "jTSxoq9LCKth"
      },
      "source": [
        "**i found earlier that degree 4 works best with the testing and has the least error thats why i choose it to be the optomal degree and made a model for it**"
      ]
    },
    {
      "cell_type": "code",
      "execution_count": null,
      "metadata": {
        "colab": {
          "base_uri": "https://localhost:8080/"
        },
        "id": "uLp5FOpPCS4D",
        "outputId": "e02db60d-0137-41a1-e322-971779107019"
      },
      "outputs": [
        {
          "name": "stdout",
          "output_type": "stream",
          "text": [
            "MAE : 0.39260937457464185 MSE : 0.2578347029673635 RMSE : 0.5077742637898888\n",
            "Optimal_Polynomial prediction : [14.36699551]\n"
          ]
        }
      ],
      "source": [
        "# i found from the earlier graph that the degree 4 is the best degree so i created a model with degree 4\n",
        "\n",
        "poly = PolynomialFeatures(degree=4, include_bias=False)\n",
        "poly_features = poly.fit_transform(X)\n",
        "\n",
        "#splitting the data into train and test\n",
        "\n",
        "X_train, X_test, y_train, y_test = train_test_split(poly_features, y, test_size=0.3, random_state=101)\n",
        "\n",
        "# fitting the data into the model\n",
        "\n",
        "poly_reg_model = LinearRegression()\n",
        "poly_reg_model.fit(X_train, y_train)\n",
        "\n",
        "\n",
        "poly_reg_y_predicted = poly_reg_model.predict(X_test)\n",
        "\n",
        "# Saving the optimal polynomial regression model with degree of 4 in a file\n",
        "\n",
        "filename = \"optimal_polyreg_model.joblib\"\n",
        "joblib.dump(poly_reg_model, filename)\n",
        "optimal_polyreg_model = joblib.load(filename)\n",
        "\n",
        "#getting the mse / mae / rmse errors for the polynomial regression\n",
        "\n",
        "\n",
        "poly_mean_squared_error = mean_squared_error(y_test, poly_reg_y_predicted)\n",
        "poly_mean_absolute_error = mean_absolute_error(y_test, poly_reg_y_predicted)\n",
        "poly_reg_rmse = np.sqrt(mean_squared_error(y_test, poly_reg_y_predicted))\n",
        "\n",
        "print(\"MAE :\", poly_mean_absolute_error ,\"MSE :\"  , poly_mean_squared_error ,\"RMSE :\", poly_reg_rmse)\n",
        "\n",
        "# predicting the wanted values in the assignment using the polynomial regression\n",
        "\n",
        "campaign = [[149,22,12]]\n",
        "\n",
        "print(\"Optimal_Polynomial prediction :\",poly_reg_model.predict(poly.fit_transform(campaign)))\n"
      ]
    },
    {
      "cell_type": "code",
      "execution_count": null,
      "metadata": {
        "colab": {
          "base_uri": "https://localhost:8080/"
        },
        "id": "BVrzfSTXFMgp",
        "outputId": "58fc850d-3f1c-454e-81a4-b0e69940ca13"
      },
      "outputs": [
        {
          "name": "stdout",
          "output_type": "stream",
          "text": [
            "Linear MAE : 1.233375952285021 Linear MSE : 3.6913948456986083 Linear RMSE : 1.9213003007595164\n",
            "Ridgecv score : 0.8649054724144403 Ridgecv MAE : 1.2333610272261988 Ridgecv MSE : 3.6912969786300485 Ridgecv RMSE : 1.9212748316235364\n",
            "Poly MAE : 0.39260937457464185 Poly MSE : 0.2578347029673635 Poly RMSE : 0.5077742637898888\n",
            "LinearModel prediction : [13.85191279]\n",
            "RidgeCv prediction : [13.85189684]\n",
            "Optimal_Polynomial prediction : [14.36699551]\n"
          ]
        }
      ],
      "source": [
        "\n",
        "#comparaison\n",
        "print(\"Linear MAE :\",MAE,\"Linear MSE :\",MSE,\"Linear RMSE :\",RMSE)\n",
        "print(\"Ridgecv score :\",score,\"Ridgecv MAE :\",mae,\"Ridgecv MSE :\",mse,\"Ridgecv RMSE :\",rmse)\n",
        "print(\"Poly MAE :\", poly_mean_absolute_error ,\"Poly MSE :\"  , poly_mean_squared_error ,\"Poly RMSE :\", poly_reg_rmse)\n",
        "print(\"LinearModel prediction :\",Linearmodel.predict(campaign))\n",
        "print(\"RidgeCv prediction :\",ridge_mod.predict(campaign))\n",
        "print(\"Optimal_Polynomial prediction :\",poly_reg_model.predict(poly.fit_transform(campaign)))\n"
      ]
    }
  ],
  "metadata": {
    "colab": {
      "provenance": []
    },
    "kernelspec": {
      "display_name": "Python 3",
      "name": "python3"
    },
    "language_info": {
      "name": "python"
    }
  },
  "nbformat": 4,
  "nbformat_minor": 0
}
