{
  "cells": [
    {
      "cell_type": "markdown",
      "metadata": {
        "id": "DaqCPCSeICff"
      },
      "source": [
        "## Neural Networks"
      ]
    },
    {
      "cell_type": "markdown",
      "metadata": {
        "id": "Qvo4OLCrINxv"
      },
      "source": [
        "we will be exploring how to use a package called Keras to build our first neural network to predict if house prices are above or below median value.\n",
        "\n",
        "we will go through the full Deep Learning pipeline, from:\n",
        "\n",
        "\n",
        "1.   Exploring and Processing the Data\n",
        "2.   Building and Training our Neural Network\n",
        "\n",
        "3.   Visualizing Loss and Accuracy\n",
        "4.   Adding Regularization to our Neural Network\n",
        "\n",
        "\n",
        "\n",
        "\n",
        "\n",
        "\n",
        "\n",
        "\n",
        "\n",
        "\n",
        "\n",
        "\n",
        "\n"
      ]
    },
    {
      "cell_type": "markdown",
      "metadata": {
        "id": "W8XlAsl3I-ve"
      },
      "source": [
        "#Exploring the Data"
      ]
    },
    {
      "cell_type": "markdown",
      "metadata": {
        "id": "I3gxgf52LBga"
      },
      "source": [
        "Read Data from csv file  and convert it to array"
      ]
    },
    {
      "cell_type": "code",
      "execution_count": null,
      "metadata": {
        "colab": {
          "base_uri": "https://localhost:8080/",
          "height": 206
        },
        "id": "ZEBvYBujHUBk",
        "outputId": "4d41f804-ce69-419e-b742-f7be562ebd00"
      },
      "outputs": [
        {
          "data": {
            "text/html": [
              "\n",
              "  <div id=\"df-85aa880f-4235-437b-9c46-1ee27a6bbe76\">\n",
              "    <div class=\"colab-df-container\">\n",
              "      <div>\n",
              "<style scoped>\n",
              "    .dataframe tbody tr th:only-of-type {\n",
              "        vertical-align: middle;\n",
              "    }\n",
              "\n",
              "    .dataframe tbody tr th {\n",
              "        vertical-align: top;\n",
              "    }\n",
              "\n",
              "    .dataframe thead th {\n",
              "        text-align: right;\n",
              "    }\n",
              "</style>\n",
              "<table border=\"1\" class=\"dataframe\">\n",
              "  <thead>\n",
              "    <tr style=\"text-align: right;\">\n",
              "      <th></th>\n",
              "      <th>Variance_Wavelet</th>\n",
              "      <th>Skewness_Wavelet</th>\n",
              "      <th>Curtosis_Wavelet</th>\n",
              "      <th>Image_Entropy</th>\n",
              "      <th>Class</th>\n",
              "    </tr>\n",
              "  </thead>\n",
              "  <tbody>\n",
              "    <tr>\n",
              "      <th>0</th>\n",
              "      <td>3.62160</td>\n",
              "      <td>8.6661</td>\n",
              "      <td>-2.8073</td>\n",
              "      <td>-0.44699</td>\n",
              "      <td>0</td>\n",
              "    </tr>\n",
              "    <tr>\n",
              "      <th>1</th>\n",
              "      <td>4.54590</td>\n",
              "      <td>8.1674</td>\n",
              "      <td>-2.4586</td>\n",
              "      <td>-1.46210</td>\n",
              "      <td>0</td>\n",
              "    </tr>\n",
              "    <tr>\n",
              "      <th>2</th>\n",
              "      <td>3.86600</td>\n",
              "      <td>-2.6383</td>\n",
              "      <td>1.9242</td>\n",
              "      <td>0.10645</td>\n",
              "      <td>0</td>\n",
              "    </tr>\n",
              "    <tr>\n",
              "      <th>3</th>\n",
              "      <td>3.45660</td>\n",
              "      <td>9.5228</td>\n",
              "      <td>-4.0112</td>\n",
              "      <td>-3.59440</td>\n",
              "      <td>0</td>\n",
              "    </tr>\n",
              "    <tr>\n",
              "      <th>4</th>\n",
              "      <td>0.32924</td>\n",
              "      <td>-4.4552</td>\n",
              "      <td>4.5718</td>\n",
              "      <td>-0.98880</td>\n",
              "      <td>0</td>\n",
              "    </tr>\n",
              "  </tbody>\n",
              "</table>\n",
              "</div>\n",
              "      <button class=\"colab-df-convert\" onclick=\"convertToInteractive('df-85aa880f-4235-437b-9c46-1ee27a6bbe76')\"\n",
              "              title=\"Convert this dataframe to an interactive table.\"\n",
              "              style=\"display:none;\">\n",
              "        \n",
              "  <svg xmlns=\"http://www.w3.org/2000/svg\" height=\"24px\"viewBox=\"0 0 24 24\"\n",
              "       width=\"24px\">\n",
              "    <path d=\"M0 0h24v24H0V0z\" fill=\"none\"/>\n",
              "    <path d=\"M18.56 5.44l.94 2.06.94-2.06 2.06-.94-2.06-.94-.94-2.06-.94 2.06-2.06.94zm-11 1L8.5 8.5l.94-2.06 2.06-.94-2.06-.94L8.5 2.5l-.94 2.06-2.06.94zm10 10l.94 2.06.94-2.06 2.06-.94-2.06-.94-.94-2.06-.94 2.06-2.06.94z\"/><path d=\"M17.41 7.96l-1.37-1.37c-.4-.4-.92-.59-1.43-.59-.52 0-1.04.2-1.43.59L10.3 9.45l-7.72 7.72c-.78.78-.78 2.05 0 2.83L4 21.41c.39.39.9.59 1.41.59.51 0 1.02-.2 1.41-.59l7.78-7.78 2.81-2.81c.8-.78.8-2.07 0-2.86zM5.41 20L4 18.59l7.72-7.72 1.47 1.35L5.41 20z\"/>\n",
              "  </svg>\n",
              "      </button>\n",
              "      \n",
              "  <style>\n",
              "    .colab-df-container {\n",
              "      display:flex;\n",
              "      flex-wrap:wrap;\n",
              "      gap: 12px;\n",
              "    }\n",
              "\n",
              "    .colab-df-convert {\n",
              "      background-color: #E8F0FE;\n",
              "      border: none;\n",
              "      border-radius: 50%;\n",
              "      cursor: pointer;\n",
              "      display: none;\n",
              "      fill: #1967D2;\n",
              "      height: 32px;\n",
              "      padding: 0 0 0 0;\n",
              "      width: 32px;\n",
              "    }\n",
              "\n",
              "    .colab-df-convert:hover {\n",
              "      background-color: #E2EBFA;\n",
              "      box-shadow: 0px 1px 2px rgba(60, 64, 67, 0.3), 0px 1px 3px 1px rgba(60, 64, 67, 0.15);\n",
              "      fill: #174EA6;\n",
              "    }\n",
              "\n",
              "    [theme=dark] .colab-df-convert {\n",
              "      background-color: #3B4455;\n",
              "      fill: #D2E3FC;\n",
              "    }\n",
              "\n",
              "    [theme=dark] .colab-df-convert:hover {\n",
              "      background-color: #434B5C;\n",
              "      box-shadow: 0px 1px 3px 1px rgba(0, 0, 0, 0.15);\n",
              "      filter: drop-shadow(0px 1px 2px rgba(0, 0, 0, 0.3));\n",
              "      fill: #FFFFFF;\n",
              "    }\n",
              "  </style>\n",
              "\n",
              "      <script>\n",
              "        const buttonEl =\n",
              "          document.querySelector('#df-85aa880f-4235-437b-9c46-1ee27a6bbe76 button.colab-df-convert');\n",
              "        buttonEl.style.display =\n",
              "          google.colab.kernel.accessAllowed ? 'block' : 'none';\n",
              "\n",
              "        async function convertToInteractive(key) {\n",
              "          const element = document.querySelector('#df-85aa880f-4235-437b-9c46-1ee27a6bbe76');\n",
              "          const dataTable =\n",
              "            await google.colab.kernel.invokeFunction('convertToInteractive',\n",
              "                                                     [key], {});\n",
              "          if (!dataTable) return;\n",
              "\n",
              "          const docLinkHtml = 'Like what you see? Visit the ' +\n",
              "            '<a target=\"_blank\" href=https://colab.research.google.com/notebooks/data_table.ipynb>data table notebook</a>'\n",
              "            + ' to learn more about interactive tables.';\n",
              "          element.innerHTML = '';\n",
              "          dataTable['output_type'] = 'display_data';\n",
              "          await google.colab.output.renderOutput(dataTable, element);\n",
              "          const docLink = document.createElement('div');\n",
              "          docLink.innerHTML = docLinkHtml;\n",
              "          element.appendChild(docLink);\n",
              "        }\n",
              "      </script>\n",
              "    </div>\n",
              "  </div>\n",
              "  "
            ],
            "text/plain": [
              "   Variance_Wavelet  Skewness_Wavelet  Curtosis_Wavelet  Image_Entropy  Class\n",
              "0           3.62160            8.6661           -2.8073       -0.44699      0\n",
              "1           4.54590            8.1674           -2.4586       -1.46210      0\n",
              "2           3.86600           -2.6383            1.9242        0.10645      0\n",
              "3           3.45660            9.5228           -4.0112       -3.59440      0\n",
              "4           0.32924           -4.4552            4.5718       -0.98880      0"
            ]
          },
          "execution_count": 18,
          "metadata": {},
          "output_type": "execute_result"
        }
      ],
      "source": [
        "import pandas as pd\n",
        "df = pd.read_csv('/content/data_banknote_authentication (1).csv', index_col=False )\n",
        "\n",
        "data=df.values\n",
        "df.head()"
      ]
    },
    {
      "cell_type": "markdown",
      "metadata": {
        "id": "3Nv3c4nOLGdC"
      },
      "source": [
        "Split our dataset into the input features and Labels"
      ]
    },
    {
      "cell_type": "markdown",
      "metadata": {
        "id": "OLpOXzet5RLd"
      },
      "source": [
        "## Train | Test Split"
      ]
    },
    {
      "cell_type": "code",
      "execution_count": null,
      "metadata": {
        "colab": {
          "base_uri": "https://localhost:8080/"
        },
        "id": "8ZMqgezPnwO2",
        "outputId": "487f9a48-8787-4d37-8c63-0a4547e70731"
      },
      "outputs": [
        {
          "data": {
            "text/plain": [
              "(array([[  3.6216 ,   8.6661 ,  -2.8073 ,  -0.44699],\n",
              "        [  4.5459 ,   8.1674 ,  -2.4586 ,  -1.4621 ],\n",
              "        [  3.866  ,  -2.6383 ,   1.9242 ,   0.10645],\n",
              "        ...,\n",
              "        [ -3.7503 , -13.4586 ,  17.5932 ,  -2.7771 ],\n",
              "        [ -3.5637 ,  -8.3827 ,  12.393  ,  -1.2823 ],\n",
              "        [ -2.5419 ,  -0.65804,   2.6842 ,   1.1952 ]]),\n",
              " array([0., 0., 0., ..., 1., 1., 1.]))"
            ]
          },
          "execution_count": 19,
          "metadata": {},
          "output_type": "execute_result"
        }
      ],
      "source": [
        "import numpy as np\n",
        "X = data[:,:4]\n",
        "y = data[:,4]\n",
        "X, y"
      ]
    },
    {
      "cell_type": "code",
      "execution_count": null,
      "metadata": {
        "id": "62yPe4m35RLe"
      },
      "outputs": [],
      "source": [
        "from sklearn.model_selection import train_test_split"
      ]
    },
    {
      "cell_type": "code",
      "execution_count": null,
      "metadata": {
        "id": "Calh-G8N5RLe"
      },
      "outputs": [],
      "source": [
        "X_train, X_val_and_test, Y_train, Y_val_and_test = train_test_split(X, y, test_size=0.3)\n"
      ]
    },
    {
      "cell_type": "markdown",
      "metadata": {
        "id": "zPU2iE6_Rvvs"
      },
      "source": [
        "Now Separate the validation and test data using same function"
      ]
    },
    {
      "cell_type": "code",
      "execution_count": null,
      "metadata": {
        "id": "dwH3EmE8TVpg"
      },
      "outputs": [],
      "source": [
        "X_tr, X_test, Y_tr, Y_test = train_test_split(X_val_and_test, Y_val_and_test, test_size=0.3)"
      ]
    },
    {
      "cell_type": "markdown",
      "metadata": {
        "id": "ZAD7I7-hVyrR"
      },
      "source": [
        "## **Building and Training our First Neural Network**"
      ]
    },
    {
      "cell_type": "markdown",
      "metadata": {
        "id": "XUfRhPtlV6nQ"
      },
      "source": [
        "#First Step: Setting up the Architecture\n",
        "Suppose we want this neural network: ![NueralNet.jpg](data:image/jpeg;base64,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)"
      ]
    },
    {
      "cell_type": "markdown",
      "metadata": {
        "id": "SR8MfjR1W1ou"
      },
      "source": [
        "In words, we want to have these layers:\n",
        "\n",
        "\n",
        "1.  \n",
        "Hidden layer 1: 32 neurons, ReLU activation\n",
        "2.   Hidden layer 2: 32 neurons, ReLU activation\n",
        "\n",
        "3.   Output Layer: 1 neuron, Sigmoid activation\n",
        "\n"
      ]
    },
    {
      "cell_type": "code",
      "execution_count": null,
      "metadata": {
        "id": "sfmUlubhWLGM"
      },
      "outputs": [],
      "source": [
        "import tensorflow as tf\n",
        "import keras\n",
        "from keras.models import Sequential\n",
        "from keras.layers import Dense\n",
        "model = Sequential([\n",
        "    Dense(32, activation='sigmoid', input_shape=(4,)),\n",
        "    Dense(32, activation='relu', input_shape=(4,)),\n",
        "    Dense(1, activation='sigmoid', input_shape=(4,)),\n",
        "])"
      ]
    },
    {
      "cell_type": "code",
      "execution_count": null,
      "metadata": {
        "id": "-nxzVnnB2Kny"
      },
      "outputs": [],
      "source": [
        "import numpy as np\n",
        "def sig(x):\n",
        " return 1/(1 + np.exp(-x))"
      ]
    },
    {
      "cell_type": "code",
      "execution_count": null,
      "metadata": {
        "id": "HfeXcUgjXQmN"
      },
      "outputs": [],
      "source": [
        "model.compile(optimizer='sgd',\n",
        "              loss='binary_crossentropy',\n",
        "              metrics=['accuracy'])"
      ]
    },
    {
      "cell_type": "code",
      "execution_count": null,
      "metadata": {
        "colab": {
          "background_save": true,
          "base_uri": "https://localhost:8080/"
        },
        "id": "AaJ7t5RVXuEd",
        "outputId": "dfc5e90e-b882-448e-f2ac-83abb216d5c7"
      },
      "outputs": [
        {
          "name": "stdout",
          "output_type": "stream",
          "text": [
            "Epoch 1/100\n",
            "30/30 [==============================] - 1s 9ms/step - loss: 0.6394 - accuracy: 0.5823 - val_loss: 0.6098 - val_accuracy: 0.6007\n",
            "Epoch 2/100\n",
            "30/30 [==============================] - 0s 3ms/step - loss: 0.5747 - accuracy: 0.6385 - val_loss: 0.5510 - val_accuracy: 0.6910\n",
            "Epoch 3/100\n",
            "30/30 [==============================] - 0s 3ms/step - loss: 0.5237 - accuracy: 0.7448 - val_loss: 0.5014 - val_accuracy: 0.8681\n",
            "Epoch 4/100\n",
            "30/30 [==============================] - 0s 3ms/step - loss: 0.4800 - accuracy: 0.8771 - val_loss: 0.4579 - val_accuracy: 0.9201\n",
            "Epoch 5/100\n",
            "30/30 [==============================] - 0s 3ms/step - loss: 0.4406 - accuracy: 0.9135 - val_loss: 0.4183 - val_accuracy: 0.9479\n",
            "Epoch 6/100\n",
            "30/30 [==============================] - 0s 4ms/step - loss: 0.4039 - accuracy: 0.9469 - val_loss: 0.3817 - val_accuracy: 0.9583\n",
            "Epoch 7/100\n",
            "30/30 [==============================] - 0s 3ms/step - loss: 0.3696 - accuracy: 0.9594 - val_loss: 0.3479 - val_accuracy: 0.9618\n",
            "Epoch 8/100\n",
            "30/30 [==============================] - 0s 3ms/step - loss: 0.3377 - accuracy: 0.9635 - val_loss: 0.3168 - val_accuracy: 0.9653\n",
            "Epoch 9/100\n",
            "30/30 [==============================] - 0s 3ms/step - loss: 0.3083 - accuracy: 0.9698 - val_loss: 0.2885 - val_accuracy: 0.9688\n",
            "Epoch 10/100\n",
            "30/30 [==============================] - 0s 3ms/step - loss: 0.2814 - accuracy: 0.9698 - val_loss: 0.2630 - val_accuracy: 0.9688\n",
            "Epoch 11/100\n",
            "30/30 [==============================] - 0s 3ms/step - loss: 0.2570 - accuracy: 0.9740 - val_loss: 0.2399 - val_accuracy: 0.9722\n",
            "Epoch 12/100\n",
            "30/30 [==============================] - 0s 5ms/step - loss: 0.2351 - accuracy: 0.9750 - val_loss: 0.2194 - val_accuracy: 0.9722\n",
            "Epoch 13/100\n",
            "30/30 [==============================] - 0s 3ms/step - loss: 0.2157 - accuracy: 0.9781 - val_loss: 0.2013 - val_accuracy: 0.9757\n",
            "Epoch 14/100\n",
            "30/30 [==============================] - 0s 3ms/step - loss: 0.1984 - accuracy: 0.9771 - val_loss: 0.1853 - val_accuracy: 0.9757\n",
            "Epoch 15/100\n",
            "30/30 [==============================] - 0s 3ms/step - loss: 0.1830 - accuracy: 0.9771 - val_loss: 0.1713 - val_accuracy: 0.9757\n",
            "Epoch 16/100\n",
            "30/30 [==============================] - 0s 3ms/step - loss: 0.1694 - accuracy: 0.9781 - val_loss: 0.1589 - val_accuracy: 0.9757\n",
            "Epoch 17/100\n",
            "30/30 [==============================] - 0s 3ms/step - loss: 0.1574 - accuracy: 0.9792 - val_loss: 0.1479 - val_accuracy: 0.9757\n",
            "Epoch 18/100\n",
            "30/30 [==============================] - 0s 3ms/step - loss: 0.1467 - accuracy: 0.9823 - val_loss: 0.1382 - val_accuracy: 0.9792\n",
            "Epoch 19/100\n",
            "30/30 [==============================] - 0s 3ms/step - loss: 0.1371 - accuracy: 0.9833 - val_loss: 0.1295 - val_accuracy: 0.9792\n",
            "Epoch 20/100\n",
            "30/30 [==============================] - 0s 3ms/step - loss: 0.1287 - accuracy: 0.9833 - val_loss: 0.1217 - val_accuracy: 0.9826\n",
            "Epoch 21/100\n",
            "30/30 [==============================] - 0s 4ms/step - loss: 0.1211 - accuracy: 0.9833 - val_loss: 0.1147 - val_accuracy: 0.9826\n",
            "Epoch 22/100\n",
            "30/30 [==============================] - 0s 4ms/step - loss: 0.1142 - accuracy: 0.9844 - val_loss: 0.1085 - val_accuracy: 0.9826\n",
            "Epoch 23/100\n",
            "30/30 [==============================] - 0s 3ms/step - loss: 0.1081 - accuracy: 0.9844 - val_loss: 0.1029 - val_accuracy: 0.9826\n",
            "Epoch 24/100\n",
            "30/30 [==============================] - 0s 3ms/step - loss: 0.1025 - accuracy: 0.9854 - val_loss: 0.0978 - val_accuracy: 0.9861\n",
            "Epoch 25/100\n",
            "30/30 [==============================] - 0s 3ms/step - loss: 0.0975 - accuracy: 0.9854 - val_loss: 0.0931 - val_accuracy: 0.9861\n",
            "Epoch 26/100\n",
            "30/30 [==============================] - 0s 3ms/step - loss: 0.0928 - accuracy: 0.9854 - val_loss: 0.0889 - val_accuracy: 0.9861\n",
            "Epoch 27/100\n",
            "30/30 [==============================] - 0s 3ms/step - loss: 0.0886 - accuracy: 0.9854 - val_loss: 0.0851 - val_accuracy: 0.9896\n",
            "Epoch 28/100\n",
            "30/30 [==============================] - 0s 5ms/step - loss: 0.0848 - accuracy: 0.9854 - val_loss: 0.0816 - val_accuracy: 0.9896\n",
            "Epoch 29/100\n",
            "30/30 [==============================] - 0s 3ms/step - loss: 0.0814 - accuracy: 0.9854 - val_loss: 0.0783 - val_accuracy: 0.9896\n",
            "Epoch 30/100\n",
            "30/30 [==============================] - 0s 3ms/step - loss: 0.0783 - accuracy: 0.9865 - val_loss: 0.0754 - val_accuracy: 0.9896\n",
            "Epoch 31/100\n",
            "30/30 [==============================] - 0s 3ms/step - loss: 0.0753 - accuracy: 0.9865 - val_loss: 0.0726 - val_accuracy: 0.9896\n",
            "Epoch 32/100\n",
            "30/30 [==============================] - 0s 4ms/step - loss: 0.0726 - accuracy: 0.9865 - val_loss: 0.0701 - val_accuracy: 0.9896\n",
            "Epoch 33/100\n",
            "30/30 [==============================] - 0s 3ms/step - loss: 0.0701 - accuracy: 0.9865 - val_loss: 0.0677 - val_accuracy: 0.9896\n",
            "Epoch 34/100\n",
            "30/30 [==============================] - 0s 3ms/step - loss: 0.0678 - accuracy: 0.9875 - val_loss: 0.0655 - val_accuracy: 0.9931\n",
            "Epoch 35/100\n",
            "30/30 [==============================] - 0s 3ms/step - loss: 0.0657 - accuracy: 0.9875 - val_loss: 0.0635 - val_accuracy: 0.9931\n",
            "Epoch 36/100\n",
            "30/30 [==============================] - 0s 3ms/step - loss: 0.0636 - accuracy: 0.9896 - val_loss: 0.0616 - val_accuracy: 0.9931\n",
            "Epoch 37/100\n",
            "30/30 [==============================] - 0s 3ms/step - loss: 0.0618 - accuracy: 0.9906 - val_loss: 0.0599 - val_accuracy: 0.9931\n",
            "Epoch 38/100\n",
            "30/30 [==============================] - 0s 3ms/step - loss: 0.0600 - accuracy: 0.9906 - val_loss: 0.0582 - val_accuracy: 0.9931\n",
            "Epoch 39/100\n",
            "30/30 [==============================] - 0s 3ms/step - loss: 0.0584 - accuracy: 0.9917 - val_loss: 0.0567 - val_accuracy: 0.9931\n",
            "Epoch 40/100\n",
            "30/30 [==============================] - 0s 3ms/step - loss: 0.0569 - accuracy: 0.9917 - val_loss: 0.0552 - val_accuracy: 0.9931\n",
            "Epoch 41/100\n",
            "30/30 [==============================] - 0s 4ms/step - loss: 0.0554 - accuracy: 0.9917 - val_loss: 0.0539 - val_accuracy: 0.9931\n",
            "Epoch 42/100\n",
            "30/30 [==============================] - 0s 3ms/step - loss: 0.0540 - accuracy: 0.9917 - val_loss: 0.0526 - val_accuracy: 0.9931\n",
            "Epoch 43/100\n",
            "30/30 [==============================] - 0s 3ms/step - loss: 0.0527 - accuracy: 0.9917 - val_loss: 0.0513 - val_accuracy: 0.9931\n",
            "Epoch 44/100\n",
            "30/30 [==============================] - 0s 3ms/step - loss: 0.0516 - accuracy: 0.9917 - val_loss: 0.0501 - val_accuracy: 0.9931\n",
            "Epoch 45/100\n",
            "30/30 [==============================] - 0s 3ms/step - loss: 0.0504 - accuracy: 0.9917 - val_loss: 0.0490 - val_accuracy: 0.9931\n",
            "Epoch 46/100\n",
            "30/30 [==============================] - 0s 3ms/step - loss: 0.0494 - accuracy: 0.9917 - val_loss: 0.0479 - val_accuracy: 0.9931\n",
            "Epoch 47/100\n",
            "30/30 [==============================] - 0s 3ms/step - loss: 0.0483 - accuracy: 0.9917 - val_loss: 0.0470 - val_accuracy: 0.9931\n",
            "Epoch 48/100\n",
            "30/30 [==============================] - 0s 3ms/step - loss: 0.0473 - accuracy: 0.9917 - val_loss: 0.0460 - val_accuracy: 0.9931\n",
            "Epoch 49/100\n",
            "30/30 [==============================] - 0s 3ms/step - loss: 0.0464 - accuracy: 0.9917 - val_loss: 0.0451 - val_accuracy: 0.9931\n",
            "Epoch 50/100\n",
            "30/30 [==============================] - 0s 3ms/step - loss: 0.0455 - accuracy: 0.9917 - val_loss: 0.0442 - val_accuracy: 0.9931\n",
            "Epoch 51/100\n",
            "30/30 [==============================] - 0s 4ms/step - loss: 0.0446 - accuracy: 0.9917 - val_loss: 0.0434 - val_accuracy: 0.9931\n",
            "Epoch 52/100\n",
            "30/30 [==============================] - 0s 3ms/step - loss: 0.0438 - accuracy: 0.9917 - val_loss: 0.0427 - val_accuracy: 0.9931\n",
            "Epoch 53/100\n",
            "30/30 [==============================] - 0s 3ms/step - loss: 0.0430 - accuracy: 0.9917 - val_loss: 0.0419 - val_accuracy: 0.9931\n",
            "Epoch 54/100\n",
            "30/30 [==============================] - 0s 3ms/step - loss: 0.0422 - accuracy: 0.9917 - val_loss: 0.0411 - val_accuracy: 0.9931\n",
            "Epoch 55/100\n",
            "30/30 [==============================] - 0s 3ms/step - loss: 0.0416 - accuracy: 0.9917 - val_loss: 0.0404 - val_accuracy: 0.9931\n",
            "Epoch 56/100\n",
            "30/30 [==============================] - 0s 3ms/step - loss: 0.0409 - accuracy: 0.9917 - val_loss: 0.0398 - val_accuracy: 0.9931\n",
            "Epoch 57/100\n",
            "30/30 [==============================] - 0s 4ms/step - loss: 0.0402 - accuracy: 0.9917 - val_loss: 0.0391 - val_accuracy: 0.9931\n",
            "Epoch 58/100\n",
            "30/30 [==============================] - 0s 5ms/step - loss: 0.0395 - accuracy: 0.9917 - val_loss: 0.0385 - val_accuracy: 0.9931\n",
            "Epoch 59/100\n",
            "30/30 [==============================] - 0s 4ms/step - loss: 0.0389 - accuracy: 0.9917 - val_loss: 0.0379 - val_accuracy: 0.9931\n",
            "Epoch 60/100\n",
            "30/30 [==============================] - 0s 4ms/step - loss: 0.0384 - accuracy: 0.9917 - val_loss: 0.0373 - val_accuracy: 0.9931\n",
            "Epoch 61/100\n",
            "30/30 [==============================] - 0s 5ms/step - loss: 0.0378 - accuracy: 0.9917 - val_loss: 0.0367 - val_accuracy: 0.9931\n",
            "Epoch 62/100\n",
            "30/30 [==============================] - 0s 6ms/step - loss: 0.0372 - accuracy: 0.9917 - val_loss: 0.0362 - val_accuracy: 0.9931\n",
            "Epoch 63/100\n",
            "30/30 [==============================] - 0s 4ms/step - loss: 0.0366 - accuracy: 0.9917 - val_loss: 0.0357 - val_accuracy: 0.9931\n",
            "Epoch 64/100\n",
            "30/30 [==============================] - 0s 4ms/step - loss: 0.0361 - accuracy: 0.9917 - val_loss: 0.0352 - val_accuracy: 0.9931\n",
            "Epoch 65/100\n",
            "30/30 [==============================] - 0s 4ms/step - loss: 0.0357 - accuracy: 0.9917 - val_loss: 0.0347 - val_accuracy: 0.9931\n",
            "Epoch 66/100\n",
            "30/30 [==============================] - 0s 5ms/step - loss: 0.0351 - accuracy: 0.9917 - val_loss: 0.0342 - val_accuracy: 0.9931\n",
            "Epoch 67/100\n",
            "30/30 [==============================] - 0s 5ms/step - loss: 0.0347 - accuracy: 0.9917 - val_loss: 0.0337 - val_accuracy: 0.9931\n",
            "Epoch 68/100\n",
            "30/30 [==============================] - 0s 4ms/step - loss: 0.0343 - accuracy: 0.9917 - val_loss: 0.0333 - val_accuracy: 0.9931\n",
            "Epoch 69/100\n",
            "30/30 [==============================] - 0s 5ms/step - loss: 0.0338 - accuracy: 0.9917 - val_loss: 0.0329 - val_accuracy: 0.9931\n",
            "Epoch 70/100\n",
            "30/30 [==============================] - 0s 4ms/step - loss: 0.0335 - accuracy: 0.9917 - val_loss: 0.0325 - val_accuracy: 0.9931\n",
            "Epoch 71/100\n",
            "30/30 [==============================] - 0s 4ms/step - loss: 0.0330 - accuracy: 0.9917 - val_loss: 0.0321 - val_accuracy: 0.9931\n",
            "Epoch 72/100\n",
            "30/30 [==============================] - 0s 4ms/step - loss: 0.0326 - accuracy: 0.9917 - val_loss: 0.0317 - val_accuracy: 0.9931\n",
            "Epoch 73/100\n",
            "30/30 [==============================] - 0s 5ms/step - loss: 0.0322 - accuracy: 0.9917 - val_loss: 0.0313 - val_accuracy: 0.9931\n",
            "Epoch 74/100\n",
            "30/30 [==============================] - 0s 4ms/step - loss: 0.0318 - accuracy: 0.9917 - val_loss: 0.0309 - val_accuracy: 0.9931\n",
            "Epoch 75/100\n",
            "30/30 [==============================] - 0s 5ms/step - loss: 0.0315 - accuracy: 0.9917 - val_loss: 0.0306 - val_accuracy: 0.9931\n",
            "Epoch 76/100\n",
            "30/30 [==============================] - 0s 4ms/step - loss: 0.0311 - accuracy: 0.9927 - val_loss: 0.0302 - val_accuracy: 0.9931\n",
            "Epoch 77/100\n",
            "30/30 [==============================] - 0s 4ms/step - loss: 0.0307 - accuracy: 0.9917 - val_loss: 0.0299 - val_accuracy: 0.9931\n",
            "Epoch 78/100\n",
            "30/30 [==============================] - 0s 3ms/step - loss: 0.0304 - accuracy: 0.9917 - val_loss: 0.0296 - val_accuracy: 0.9931\n",
            "Epoch 79/100\n",
            "30/30 [==============================] - 0s 3ms/step - loss: 0.0301 - accuracy: 0.9927 - val_loss: 0.0292 - val_accuracy: 0.9931\n",
            "Epoch 80/100\n",
            "30/30 [==============================] - 0s 3ms/step - loss: 0.0298 - accuracy: 0.9917 - val_loss: 0.0289 - val_accuracy: 0.9931\n",
            "Epoch 81/100\n",
            "30/30 [==============================] - 0s 3ms/step - loss: 0.0295 - accuracy: 0.9927 - val_loss: 0.0286 - val_accuracy: 0.9931\n",
            "Epoch 82/100\n",
            "30/30 [==============================] - 0s 3ms/step - loss: 0.0291 - accuracy: 0.9917 - val_loss: 0.0283 - val_accuracy: 0.9931\n",
            "Epoch 83/100\n",
            "30/30 [==============================] - 0s 3ms/step - loss: 0.0288 - accuracy: 0.9917 - val_loss: 0.0280 - val_accuracy: 0.9931\n",
            "Epoch 84/100\n",
            "30/30 [==============================] - 0s 3ms/step - loss: 0.0285 - accuracy: 0.9927 - val_loss: 0.0277 - val_accuracy: 0.9931\n",
            "Epoch 85/100\n",
            "30/30 [==============================] - 0s 3ms/step - loss: 0.0282 - accuracy: 0.9917 - val_loss: 0.0275 - val_accuracy: 0.9931\n",
            "Epoch 86/100\n",
            "30/30 [==============================] - 0s 3ms/step - loss: 0.0280 - accuracy: 0.9917 - val_loss: 0.0272 - val_accuracy: 0.9931\n",
            "Epoch 87/100\n",
            "30/30 [==============================] - 0s 3ms/step - loss: 0.0277 - accuracy: 0.9917 - val_loss: 0.0269 - val_accuracy: 0.9931\n",
            "Epoch 88/100\n",
            "30/30 [==============================] - 0s 3ms/step - loss: 0.0274 - accuracy: 0.9917 - val_loss: 0.0267 - val_accuracy: 0.9931\n",
            "Epoch 89/100\n",
            "30/30 [==============================] - 0s 3ms/step - loss: 0.0272 - accuracy: 0.9927 - val_loss: 0.0264 - val_accuracy: 0.9931\n",
            "Epoch 90/100\n",
            "30/30 [==============================] - 0s 3ms/step - loss: 0.0269 - accuracy: 0.9927 - val_loss: 0.0261 - val_accuracy: 0.9931\n",
            "Epoch 91/100\n",
            "30/30 [==============================] - 0s 3ms/step - loss: 0.0267 - accuracy: 0.9927 - val_loss: 0.0259 - val_accuracy: 0.9931\n",
            "Epoch 92/100\n",
            "30/30 [==============================] - 0s 3ms/step - loss: 0.0264 - accuracy: 0.9927 - val_loss: 0.0257 - val_accuracy: 0.9931\n",
            "Epoch 93/100\n",
            "30/30 [==============================] - 0s 3ms/step - loss: 0.0262 - accuracy: 0.9917 - val_loss: 0.0255 - val_accuracy: 0.9931\n",
            "Epoch 94/100\n",
            "30/30 [==============================] - 0s 4ms/step - loss: 0.0260 - accuracy: 0.9917 - val_loss: 0.0253 - val_accuracy: 0.9931\n",
            "Epoch 95/100\n",
            "30/30 [==============================] - 0s 3ms/step - loss: 0.0257 - accuracy: 0.9927 - val_loss: 0.0251 - val_accuracy: 0.9931\n",
            "Epoch 96/100\n",
            "30/30 [==============================] - 0s 3ms/step - loss: 0.0255 - accuracy: 0.9927 - val_loss: 0.0248 - val_accuracy: 0.9931\n",
            "Epoch 97/100\n",
            "30/30 [==============================] - 0s 3ms/step - loss: 0.0253 - accuracy: 0.9927 - val_loss: 0.0246 - val_accuracy: 0.9931\n",
            "Epoch 98/100\n",
            "30/30 [==============================] - 0s 3ms/step - loss: 0.0250 - accuracy: 0.9927 - val_loss: 0.0244 - val_accuracy: 0.9931\n",
            "Epoch 99/100\n",
            "30/30 [==============================] - 0s 3ms/step - loss: 0.0248 - accuracy: 0.9927 - val_loss: 0.0241 - val_accuracy: 0.9931\n",
            "Epoch 100/100\n",
            "30/30 [==============================] - 0s 3ms/step - loss: 0.0246 - accuracy: 0.9927 - val_loss: 0.0239 - val_accuracy: 0.9931\n"
          ]
        }
      ],
      "source": [
        "hist = model.fit(X_train, Y_train, batch_size =32, epochs=100,  validation_data=(X_tr, Y_tr ))"
      ]
    },
    {
      "cell_type": "markdown",
      "metadata": {
        "id": "jIa7DNiHyEZy"
      },
      "source": [
        "Evaluate the Model"
      ]
    },
    {
      "cell_type": "code",
      "execution_count": null,
      "metadata": {
        "colab": {
          "background_save": true
        },
        "id": "UYp7ocRoxnrD",
        "outputId": "a57df928-20ae-44b3-e0e5-f785f6f1a3cf"
      },
      "outputs": [
        {
          "name": "stdout",
          "output_type": "stream",
          "text": [
            "4/4 [==============================] - 0s 4ms/step - loss: 0.0213 - accuracy: 0.9919\n"
          ]
        },
        {
          "data": {
            "text/plain": [
              "0.9919354915618896"
            ]
          },
          "execution_count": 39,
          "metadata": {},
          "output_type": "execute_result"
        }
      ],
      "source": [
        "model.evaluate(X_test, Y_test)[1]"
      ]
    },
    {
      "cell_type": "markdown",
      "metadata": {
        "id": "mjxShw_lyAO7"
      },
      "source": [
        "Visualizing Loss and Accuracy"
      ]
    },
    {
      "cell_type": "code",
      "execution_count": null,
      "metadata": {
        "colab": {
          "background_save": true
        },
        "id": "qvU3iExix9s7",
        "outputId": "ba261167-d535-4385-bb7c-9f2e9bfbe009"
      },
      "outputs": [
        {
          "data": {
            "image/png": "[encoded data removed]",
            "text/plain": [
              "<Figure size 432x288 with 1 Axes>"
            ]
          },
          "metadata": {},
          "output_type": "display_data"
        }
      ],
      "source": [
        "import matplotlib.pyplot as plt\n",
        "plt.plot(hist.history['loss'])\n",
        "plt.plot(hist.history['val_loss'])\n",
        "plt.title('Model loss')\n",
        "plt.ylabel('loss')\n",
        "plt.xlabel('Epoch')\n",
        "plt.legend(['Train', 'Val'], loc='upper right')\n",
        "plt.show()"
      ]
    },
    {
      "cell_type": "markdown",
      "metadata": {
        "id": "gl-EI2Kc2udI"
      },
      "source": [
        "ADD Accuracy Plot"
      ]
    },
    {
      "cell_type": "code",
      "execution_count": null,
      "metadata": {
        "colab": {
          "background_save": true
        },
        "collapsed": true,
        "id": "qRso4r9P2r4i",
        "outputId": "f655ffc1-a9e0-4b81-e5d5-59db8759981a"
      },
      "outputs": [],
      "source": [
        "\n",
        "loss_train = hist.history['acc']\n",
        "loss_val = hist.history['val_acc']\n",
        "epochs = range(1,11)\n",
        "plt.plot(epochs, loss_train, 'g', label='Training accuracy')\n",
        "plt.plot(epochs, loss_val, 'b', label='validation accuracy')\n",
        "plt.title('Training and Validation accuracy')\n",
        "plt.xlabel('Epochs')\n",
        "plt.ylabel('Accuracy')\n",
        "plt.legend()\n",
        "plt.show()\n"
      ]
    }
  ],
  "metadata": {
    "colab": {
      "provenance": []
    },
    "kernelspec": {
      "display_name": "Python 3",
      "name": "python3"
    },
    "language_info": {
      "name": "python"
    }
  },
  "nbformat": 4,
  "nbformat_minor": 0
}
