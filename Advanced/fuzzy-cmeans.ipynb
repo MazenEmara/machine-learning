{
  "cells": [
    {
      "cell_type": "code",
      "execution_count": null,
      "metadata": {
        "id": "yFlAf_fasuis"
      },
      "outputs": [],
      "source": [
        "import numpy as np\n",
        "\n",
        "def distance(x,y):\n",
        "  return np.sqrt(np.sum(pow((x-y),2)))"
      ]
    },
    {
      "cell_type": "code",
      "execution_count": null,
      "metadata": {
        "id": "6kHZv_s3O_Mx"
      },
      "outputs": [],
      "source": [
        "#the given initial centers and points\n",
        "centers = np.array([[2, 4], [1, 7]])\n",
        "points = np.array([[3, 5],[4, 6],[2, 8],[2, 3],[1, 4]])\n",
        "q = 2\n",
        "Lamda = 1"
      ]
    },
    {
      "cell_type": "code",
      "execution_count": null,
      "metadata": {
        "colab": {
          "base_uri": "https://localhost:8080/"
        },
        "id": "A0vkTN2T3FkP",
        "outputId": "da9f1a2a-8e15-418d-f9e5-52eb54888e50"
      },
      "outputs": [
        {
          "name": "stdout",
          "output_type": "stream",
          "text": [
            "[[1.41421356 2.82842712]\n",
            " [2.82842712 3.16227766]\n",
            " [4.         1.41421356]\n",
            " [1.         4.12310563]\n",
            " [1.         3.        ]]\n"
          ]
        }
      ],
      "source": [
        "def CalculateDistance(data, centers):\n",
        "    #initializing Distances array with the same shape of nbr of rows of centers and nbr of rows of the datapoints\n",
        "    #np.zeros to initalize it with zeros as a start\n",
        "    Distances = np.zeros((data.shape[0], centers.shape[0]))\n",
        "    for i in range(data.shape[0]):\n",
        "        for j in range(centers.shape[0]):\n",
        "            #i calculated the distance between the indexed point and each center using the given distance function and placed it in the 2d array\n",
        "            Distances[i][j] = distance(data[i],centers[j])\n",
        "    return Distances\n",
        "\n",
        "\n",
        "\n",
        "print(CalculateDistance(points, centers))"
      ]
    },
    {
      "cell_type": "code",
      "execution_count": null,
      "metadata": {
        "colab": {
          "base_uri": "https://localhost:8080/"
        },
        "id": "88j87V4z3Fq2",
        "outputId": "9d0168b5-7dca-40ce-d426-772fa59e1d0a"
      },
      "outputs": [
        {
          "name": "stdout",
          "output_type": "stream",
          "text": [
            "[[0.8        0.2       ]\n",
            " [0.55555556 0.44444444]\n",
            " [0.11111111 0.88888889]\n",
            " [0.94444444 0.05555556]\n",
            " [0.9        0.1       ]]\n"
          ]
        }
      ],
      "source": [
        "def CalculateMembership(Distances, q):\n",
        "    #here the len(Distances) is the nbr of points and the length of the inner list len(Distances[0]) is the nbr of clusters\n",
        "    #so i initialized a rnk array with these shapes\n",
        "    num_points, num_clusters = Distances.shape\n",
        "    rnk = np.zeros((len(Distances), len(Distances[0])))\n",
        "    for i in range(len(Distances)):\n",
        "        for j in range(len(Distances[0])):\n",
        "            Y = 0\n",
        "            for z in range(len(Distances[0])):\n",
        "                #here i divide the distance between the point with cluster 1 Distances[i][j] on its distance with cluster 2 Distances[i][z] to get the membership\n",
        "                #to the power of 2/q-1  then 1/ because thats the formula i found to calculate it\n",
        "                Y += pow(float(Distances[i][j]/Distances[i][z]), 2/(q-1))\n",
        "            rnk[i][j] = 1 / Y\n",
        "    return rnk\n",
        "\n",
        "\n",
        "\n",
        "print(CalculateMembership(CalculateDistance(points, centers), q))"
      ]
    },
    {
      "cell_type": "code",
      "execution_count": null,
      "metadata": {
        "colab": {
          "base_uri": "https://localhost:8080/"
        },
        "id": "NKEB_xWD3FxD",
        "outputId": "d179f752-c619-4e93-eb46-4645516cfdaa"
      },
      "outputs": [
        {
          "name": "stdout",
          "output_type": "stream",
          "text": [
            "[[2.16796477 4.15572554]\n",
            " [2.4084223  7.45183867]]\n"
          ]
        }
      ],
      "source": [
        "def UpdateClusterMean(datapoints, membership, q):\n",
        "    points = datapoints.shape[0] #[0] because nbr of rows in datapoints is the same as the number of data points\n",
        "    clusters = membership.shape[1] # [1] because nbr of columns in membership is = to the number of clusters\n",
        "    updatedClusters = np.zeros((clusters, datapoints.shape[1])) #the i initialized the arr of updated clusters with the previous shapes\n",
        "\n",
        "    for i in range(clusters):\n",
        "        #those two variables to calculate the weighted avg in them\n",
        "        X = np.zeros(datapoints.shape[1])\n",
        "        Y = 0\n",
        "        for j in range(points):\n",
        "            #here i calculate the center as the weighted mean membership power q as weight\n",
        "            #so we sum all the points * its membership power over the memberships\n",
        "            X += (membership[j][i]**q) * datapoints[j]\n",
        "            Y += (membership[j][i]**q)\n",
        "        updatedClusters[i] = X / Y\n",
        "    return updatedClusters\n",
        "\n",
        "\n",
        "di=CalculateDistance(points, centers)\n",
        "mem=CalculateMembership(di, q)\n",
        "print(UpdateClusterMean(points, mem, q))"
      ]
    },
    {
      "cell_type": "code",
      "execution_count": null,
      "metadata": {
        "colab": {
          "base_uri": "https://localhost:8080/"
        },
        "id": "lnN-6oHS3F3r",
        "outputId": "8741debc-c684-4e29-e985-427de5241a38"
      },
      "outputs": [
        {
          "data": {
            "text/plain": [
              "9.666666666666668"
            ]
          },
          "execution_count": 88,
          "metadata": {},
          "output_type": "execute_result"
        }
      ],
      "source": [
        "def CalculateObjectiveFunc(data, membership, centers, q, lamda):\n",
        "  #we want to know here how well did we cluster the data so we calculate it using the formula\n",
        "    Value = 0\n",
        "    for i in range(data.shape[0]):\n",
        "        for j in range(centers.shape[0]):\n",
        "            #the membership of the indexed i point with each cluster power q * the distance between the i point with each cluster center to the power of 2\n",
        "            Value += (membership[i][j] ** q) * (distance(data[i], centers[j]) ** 2)*lamda\n",
        "    return Value\n",
        "\n",
        "d=CalculateDistance(points, centers)\n",
        "memberships =CalculateMembership(d, q)\n",
        "CalculateObjectiveFunc(points, memberships, centers, 2, Lamda)"
      ]
    },
    {
      "cell_type": "code",
      "execution_count": null,
      "metadata": {
        "id": "0w4YOlmo3F_U"
      },
      "outputs": [],
      "source": [
        "def ReachConvergence(data, centers, q, lamda):\n",
        "    distance = CalculateDistance(data, centers)\n",
        "    membership = CalculateMembership(distance, q)\n",
        "    objectice = CalculateObjectiveFunc(data, membership, centers, q, lamda)\n",
        "    convergence = 0\n",
        "    #while convergence = 0  means while there is still diffrence by every itration\n",
        "    while (convergence==0):\n",
        "        updatdCenters = UpdateClusterMean(data, membership, q)\n",
        "        print(updatdCenters)\n",
        "        distance = CalculateDistance(data, updatdCenters)\n",
        "        updatedMembership = CalculateMembership(distance, q)\n",
        "        updatedObjective = CalculateObjectiveFunc(data, updatedMembership, updatdCenters, q, lamda)\n",
        "        if abs(objectice - updatedObjective) < 0.01: #if the absolute diff between the old obj func and the new is smaller than 0.01\n",
        "                                                     #then there is no difference its finally convergence\n",
        "            convergence = 1\n",
        "        #if not then i calculate another obj func and we have new membership and centers and etc until converged\n",
        "        objectice = updatedObjective\n",
        "        membership = updatedMembership\n",
        "        centers = updatdCenters\n",
        "    return membership, centers"
      ]
    },
    {
      "cell_type": "code",
      "execution_count": null,
      "metadata": {
        "colab": {
          "base_uri": "https://localhost:8080/"
        },
        "id": "uc7_cTl1sxwZ",
        "outputId": "7ac6e2ce-2dcd-4795-aba9-f684bc8d8d46"
      },
      "outputs": [
        {
          "name": "stdout",
          "output_type": "stream",
          "text": [
            "[[2.16796477 4.15572554]\n",
            " [2.4084223  7.45183867]]\n",
            "[[2.06921193 4.05112114]\n",
            " [2.54436622 7.36051297]]\n",
            "[[1.98927786 3.97484759]\n",
            " [2.64362838 7.24678759]]\n",
            "[[1.92235408 3.91209102]\n",
            " [2.72719459 7.1378234 ]]\n",
            "[[1.8650109  3.85939803]\n",
            " [2.79694907 7.03770285]]\n",
            "[[1.8163385  3.81577537]\n",
            " [2.85376017 6.94846917]]\n",
            "[[1.77610074 3.78073625]\n",
            " [2.89866873 6.87161493]]\n",
            "[[1.74392523 3.75359918]\n",
            " [2.93311381 6.80782752]]\n",
            "[[1.71904481 3.73331869]\n",
            " [2.95883257 6.75678624]]\n",
            "[[1.70036649 3.71861393]\n",
            " [2.97762184 6.71728171]]\n",
            "membership :  [[0.46963323 0.53036677]\n",
            " [0.12940992 0.87059008]\n",
            " [0.12373775 0.87626225]\n",
            " [0.96058636 0.03941364]\n",
            " [0.95198272 0.04801728]]\n",
            "centers :  [[1.70036649 3.71861393]\n",
            " [2.97762184 6.71728171]]\n"
          ]
        }
      ],
      "source": [
        "membership, updated_centers = ReachConvergence(points, centers, q, Lamda)\n",
        "print(\"membership : \", membership)\n",
        "print(\"centers : \",updated_centers)\n",
        "\n"
      ]
    },
    {
      "cell_type": "code",
      "execution_count": null,
      "metadata": {
        "colab": {
          "base_uri": "https://localhost:8080/",
          "height": 300
        },
        "id": "Ayuv2dVRJyYI",
        "outputId": "2530d55a-326f-444e-a470-c9dac549d282"
      },
      "outputs": [
        {
          "name": "stdout",
          "output_type": "stream",
          "text": [
            "14.061472476093476\n"
          ]
        },
        {
          "data": {
            "image/png": "[encoded data removed]",
            "text/plain": [
              "<Figure size 432x288 with 1 Axes>"
            ]
          },
          "metadata": {
            "needs_background": "light"
          },
          "output_type": "display_data"
        }
      ],
      "source": [
        "#Bonus\n",
        "import matplotlib.pyplot as plt\n",
        "\n",
        "q2 = CalculateObjectiveFunc(points, membership, centers, 2, Lamda)\n",
        "print(q2)\n",
        "q3 = CalculateObjectiveFunc(points, membership, centers, 3, Lamda)\n",
        "q4 = CalculateObjectiveFunc(points, membership, centers, 4, Lamda)\n",
        "q5 = CalculateObjectiveFunc(points, membership, centers, 5, Lamda)\n",
        "q6 = CalculateObjectiveFunc(points, membership, centers, 6, Lamda)\n",
        "q7 = CalculateObjectiveFunc(points, membership, centers, 7, Lamda)\n",
        "q8 = CalculateObjectiveFunc(points, membership, centers, 8, Lamda)\n",
        "q9 = CalculateObjectiveFunc(points, membership, centers, 9, Lamda)\n",
        "q10 = CalculateObjectiveFunc(points, membership, centers, 10, Lamda)\n",
        "\n",
        "objective = [q2,q3,q4,q5,q6,q7,q8,q9,q10]\n",
        "q = [2,3,4,5,6,7,8,9,10]\n",
        "\n",
        "\n",
        "plt.plot(q, objective)\n",
        "plt.xlabel(\"q\", size=12)\n",
        "plt.ylabel(\"Objective\", size=12)\n",
        "plt.show()\n",
        "\n",
        "#The lower the objective function the closer the data points are to their respective cluster centers\n",
        "#and clusters are better seperated so the best q value is 10"
      ]
    }
  ],
  "metadata": {
    "colab": {
      "provenance": []
    },
    "kernelspec": {
      "display_name": "Python 3",
      "name": "python3"
    },
    "language_info": {
      "name": "python"
    }
  },
  "nbformat": 4,
  "nbformat_minor": 0
}
