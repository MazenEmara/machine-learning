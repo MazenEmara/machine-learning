{
  "cells": [
    {
      "cell_type": "code",
      "execution_count": null,
      "metadata": {
        "colab": {
          "base_uri": "https://localhost:8080/"
        },
        "id": "XzTauNOfMWHm",
        "outputId": "7a6d760e-e115-46ff-9361-ceddc2a2cb8d"
      },
      "outputs": [
        {
          "name": "stdout",
          "output_type": "stream",
          "text": [
            "Looking in indexes: https://pypi.org/simple, https://us-python.pkg.dev/colab-wheels/public/simple/\n",
            "Requirement already satisfied: gensim in /usr/local/lib/python3.10/dist-packages (4.3.1)\n",
            "Requirement already satisfied: numpy>=1.18.5 in /usr/local/lib/python3.10/dist-packages (from gensim) (1.22.4)\n",
            "Requirement already satisfied: scipy>=1.7.0 in /usr/local/lib/python3.10/dist-packages (from gensim) (1.10.1)\n",
            "Requirement already satisfied: smart-open>=1.8.1 in /usr/local/lib/python3.10/dist-packages (from gensim) (6.3.0)\n"
          ]
        }
      ],
      "source": [
        "!pip install gensim\n"
      ]
    },
    {
      "cell_type": "code",
      "execution_count": null,
      "metadata": {
        "id": "fWHXMdKoYko6"
      },
      "outputs": [],
      "source": [
        "import re\n",
        "import string\n",
        "import numpy as np\n",
        "import pandas as pd\n",
        "from sklearn.model_selection import train_test_split\n",
        "from gensim.models import Word2Vec\n",
        "from flask import Flask, request, jsonify\n",
        "\n",
        "\n",
        "#transformed = \"/content/GIU_2719_59_11697_2023-05-17T16_15_29.zip\"\n",
        "\n",
        "#from zipfile import ZipFile\n",
        "#with ZipFile(transformed, 'r') as zip:\n",
        "\t#zip.printdir()\n",
        "\t#print('Extracting all the files now...')\n",
        "\t#zip.extractall()\n",
        "\t#print('Done!')"
      ]
    },
    {
      "cell_type": "code",
      "execution_count": null,
      "metadata": {
        "id": "81VXPOCPHiWQ"
      },
      "outputs": [],
      "source": [
        "app = Flask(__name__)\n",
        "\n",
        "\n",
        "# Step 1: Preprocessing\n",
        "def preprocess_text(text):\n",
        "    # Remove non-Arabic unicode characters\n",
        "    arabic_text = re.sub(r'[^\\u0600-\\u06FF\\s]', '', text)\n",
        "\n",
        "    # Remove usernames\n",
        "    arabic_text = re.sub(r'@\\w+', '', arabic_text)\n",
        "\n",
        "    # Remove URLs\n",
        "    arabic_text = re.sub(r'http\\S+|www\\S+', '', arabic_text)\n",
        "\n",
        "    # Remove punctuation, emojis, and smileys\n",
        "    arabic_text = arabic_text.translate(str.maketrans('', '', string.punctuation))\n",
        "    arabic_text = re.sub(r'[^\\u0600-\\u06FF\\s]', '', arabic_text)\n",
        "\n",
        "    return arabic_text\n",
        "\n",
        "\n",
        "data = pd.read_csv('transformed.csv')\n",
        "\n",
        "data['fineText'] = data['fineText'].astype(str)\n",
        "\n",
        "data['fineText'] = data['fineText'].apply(preprocess_text)\n"
      ]
    },
    {
      "cell_type": "code",
      "execution_count": null,
      "metadata": {
        "id": "L7yOAG8gHuY_"
      },
      "outputs": [],
      "source": [
        "from gensim.models import Word2Vec\n",
        "\n",
        "# preprocessed text into sentences\n",
        "sentences = [sentence.split() for sentence in data['fineText']]\n",
        "\n",
        "#here we train the model on the sentences\n",
        "word2vec_model = Word2Vec(sentences,vector_size=100, window=5, min_count=1, workers=4)\n",
        "\n",
        "# vectors for each word in the text\n",
        "embedded_text = []\n",
        "for sentence in sentences:\n",
        "    embedded_sentence = []\n",
        "    for word in sentence:\n",
        "        if word in word2vec_model.wv:\n",
        "            embedded_sentence.append(word2vec_model.wv[word])\n",
        "    embedded_text.append(embedded_sentence)\n",
        "\n"
      ]
    },
    {
      "cell_type": "markdown",
      "metadata": {
        "id": "OA4uR96jKYuH"
      },
      "source": [
        "in the above We preprocess the text and split it into a list of sentences. Then, we train the Word2Vec model on the preprocessed text, with params vector size , context window size, minimum word count, and number of worker threads . Finally, we extract the word vectors for each word  and store them in the embedded_text variable."
      ]
    },
    {
      "cell_type": "code",
      "execution_count": null,
      "metadata": {
        "colab": {
          "base_uri": "https://localhost:8080/"
        },
        "id": "SBxlWeTqWHie",
        "outputId": "ec116756-4be7-49a5-8e3a-a1c3ccd64ea5"
      },
      "outputs": [
        {
          "name": "stdout",
          "output_type": "stream",
          "text": [
            " لكن بالنهايه ينتفض يغير \n",
            "['لكن', 'بالنهايه', 'ينتفض', 'يغير']\n"
          ]
        }
      ],
      "source": [
        "print(data['fineText'][0])\n",
        "print(sentences[0])"
      ]
    },
    {
      "cell_type": "code",
      "execution_count": null,
      "metadata": {
        "colab": {
          "base_uri": "https://localhost:8080/"
        },
        "id": "SqRQUUsoHiM7",
        "outputId": "620d8496-2fdf-4eef-bef7-d36cc325ff73"
      },
      "outputs": [
        {
          "name": "stdout",
          "output_type": "stream",
          "text": [
            "[array([ 1.5518426 ,  0.06088397, -0.22190957,  2.5161502 ,  1.6406053 ,\n",
            "       -0.07189056,  0.19563535,  0.5652953 , -2.261044  , -1.2962073 ,\n",
            "       -1.4610353 , -0.90709186,  0.08955202,  0.61895174,  2.0119643 ,\n",
            "        0.30046788, -0.49900103, -1.74522   , -1.8000824 , -1.076105  ,\n",
            "        0.8227057 , -0.35089347,  2.7146313 , -1.7086328 ,  1.9547994 ,\n",
            "        1.8612754 ,  0.04259382,  1.5764961 , -1.376188  ,  0.11248494,\n",
            "       -1.8038852 ,  1.7643033 ,  0.20910132, -1.7043662 ,  1.0565017 ,\n",
            "       -0.622134  , -0.21502005, -0.26944044, -1.0347475 , -0.07891316,\n",
            "        0.8238086 , -0.9686193 , -0.845219  ,  0.99709874, -0.8667368 ,\n",
            "       -1.522889  ,  1.4271137 , -0.11777644,  0.46728554,  0.58055276,\n",
            "       -0.4715342 ,  0.31815007,  0.5148083 , -0.52068585,  0.21843222,\n",
            "        1.5763296 , -1.1178712 ,  1.7582545 , -0.5114804 ,  1.1671084 ,\n",
            "        0.4113979 ,  0.5669694 ,  0.5655299 ,  0.7234885 ,  1.7656633 ,\n",
            "        1.6045784 , -1.2870781 ,  2.1982667 , -1.0441144 ,  0.40519035,\n",
            "        2.4989614 ,  0.00469654,  0.32742685,  0.08830721,  2.404684  ,\n",
            "       -0.01403681,  1.0646424 , -1.4387201 , -0.7563302 , -0.04758759,\n",
            "        1.1823157 , -0.57784706, -1.5794779 , -0.33927718, -0.0979076 ,\n",
            "        1.3139151 ,  3.6615984 ,  3.8155446 ,  0.9979492 , -0.53885895,\n",
            "        0.6018425 ,  0.13812228,  1.7312863 ,  2.1761515 , -0.13675454,\n",
            "        0.8816231 ,  0.03163239,  1.1695715 ,  0.9841506 , -0.56172293],\n",
            "      dtype=float32), array([ 1.5970133e-02, -1.9099258e-01,  5.2645905e-03,  4.2339098e-01,\n",
            "        1.7717694e-01, -2.1855350e-01,  1.3289830e-01,  8.5328460e-01,\n",
            "       -9.9233490e-01, -1.2790734e-01, -4.9792564e-01, -4.4320342e-01,\n",
            "       -4.1599697e-01,  1.5971605e-01,  4.1766912e-01, -3.3998314e-01,\n",
            "        1.9921027e-02, -7.1442479e-01,  2.0690176e-01, -7.2740722e-01,\n",
            "       -3.8254987e-02,  3.9150229e-01,  2.6195204e-01,  1.8058643e-01,\n",
            "        1.3697703e-01,  3.4463629e-01, -3.9218301e-01, -1.7607826e-01,\n",
            "       -4.2225924e-01,  3.0741382e-01,  5.6284124e-01, -1.3490763e-01,\n",
            "       -4.1202086e-01, -9.1588485e-01, -1.6794974e-02,  2.6031116e-01,\n",
            "        9.4244420e-04, -1.3166606e-01, -9.4404146e-02, -8.5444278e-01,\n",
            "       -3.3719343e-01, -3.5656559e-01, -2.9949671e-01,  8.1912607e-01,\n",
            "        3.0867198e-01, -5.9397221e-01, -2.2458768e-01,  4.3738905e-02,\n",
            "        1.5546401e-03,  6.6847271e-01,  1.4078505e-01,  1.5801649e-01,\n",
            "       -2.2529055e-01, -1.8344221e-01,  3.1764737e-01,  2.8260466e-01,\n",
            "       -8.7325796e-02,  5.9335780e-01,  5.7187349e-02,  7.0823850e-03,\n",
            "        2.7052087e-01,  6.5144718e-02, -3.4407610e-01,  2.4655937e-01,\n",
            "        7.0067704e-02,  5.3581160e-01, -3.6933064e-01,  8.8787985e-01,\n",
            "       -2.6874030e-01, -9.7099312e-02, -8.2803011e-02,  4.7855636e-01,\n",
            "        5.4720616e-01, -1.7088172e-01,  6.4786243e-01,  2.3825711e-01,\n",
            "        1.3879599e-01, -2.0355310e-01, -4.4820261e-01, -4.4595450e-02,\n",
            "        1.0778351e-01,  1.4795375e-01, -6.3334095e-01, -4.5595612e-02,\n",
            "       -3.2270018e-02,  3.7955800e-01,  5.5668634e-01,  6.3709503e-01,\n",
            "        6.5333813e-01, -2.2637582e-01,  1.6671899e-01,  5.4054096e-02,\n",
            "        2.4716322e-01,  1.4306937e-01,  5.6949896e-01,  8.2175910e-01,\n",
            "       -1.4059958e-01, -3.2620376e-01,  2.8512123e-01,  2.7782404e-01],\n",
            "      dtype=float32), array([-0.07191093,  0.3005609 ,  0.2851391 ,  0.90980405,  0.09633707,\n",
            "       -0.5691584 ,  0.06192879,  1.1269206 , -0.8737195 ,  0.15331303,\n",
            "       -0.5548603 , -0.9570347 , -0.13564853, -0.07530056,  0.45561218,\n",
            "       -0.6578906 ,  0.26787943, -0.66624624,  0.03199954, -1.1952446 ,\n",
            "       -0.08765092,  0.01879835,  0.5176339 , -0.06528361,  0.00884818,\n",
            "        0.25689694, -0.4402833 , -0.17670435, -1.0065788 ,  0.6329386 ,\n",
            "        1.1209044 , -0.22067596, -0.40444806, -1.5445415 , -0.2006691 ,\n",
            "        0.11850529,  0.05290351, -0.0977863 , -0.41460475, -1.3061671 ,\n",
            "       -0.4253799 , -0.76708573, -0.46187198,  0.91626024,  0.5491307 ,\n",
            "       -0.5331636 , -0.2741634 ,  0.17045325,  0.08734654,  0.8471774 ,\n",
            "        0.2828015 ,  0.03596489, -0.6288343 , -0.14756718, -0.11259113,\n",
            "        0.48199362,  0.23184325,  0.46581346, -0.33887637,  0.14897315,\n",
            "        0.12873912,  0.28957886, -0.6930126 ,  0.64912885,  0.06805278,\n",
            "        0.7698076 , -0.46284455,  1.2444332 , -0.71628207,  0.16818987,\n",
            "       -0.3540572 ,  0.5221149 ,  0.88004625, -0.11825055,  0.8152014 ,\n",
            "        0.59768885,  0.37956932,  0.32932872, -0.64190805, -0.14007698,\n",
            "       -0.3648941 ,  0.0755064 , -1.0576582 ,  0.29269955, -0.19805713,\n",
            "        0.29689196,  0.8023065 ,  0.42771274,  0.38570264, -0.6347426 ,\n",
            "        0.5179591 ,  0.21546368, -0.05874687,  0.0026224 ,  0.82991356,\n",
            "        0.9747455 , -0.14554244, -0.9606631 ,  0.16179787,  0.6901733 ],\n",
            "      dtype=float32), array([-0.04639246, -0.30004963, -0.16268048,  1.169633  , -0.06551813,\n",
            "        0.10994131, -0.04164482,  0.5610759 , -0.7496625 ,  0.34075287,\n",
            "       -0.9798069 , -0.35782012, -0.34511563,  0.45487618,  0.48331675,\n",
            "       -0.03858471, -0.14729258, -0.6709231 ,  0.21023305, -0.7785636 ,\n",
            "       -0.36287922,  0.31986436,  0.12606353,  0.08800679,  0.30666757,\n",
            "        0.4522002 , -0.2822627 ,  0.03951364, -0.39047042,  0.42116582,\n",
            "        0.35184717, -0.16440211, -0.04113223, -0.523484  , -0.02001662,\n",
            "        0.7991944 ,  0.05591584, -0.5157832 ,  0.0024898 , -0.59292   ,\n",
            "       -0.7743546 , -0.19838186, -0.10359544,  1.2224741 , -0.32260162,\n",
            "       -0.94982874,  0.02528695,  0.03716927, -0.32363278,  0.4641132 ,\n",
            "       -0.03313507,  0.12016454, -0.61398953, -0.229332  ,  0.3162226 ,\n",
            "        0.67873734, -0.23666655,  0.41983795, -0.53361523, -0.01185859,\n",
            "       -0.06361584,  0.3282336 , -0.06075085,  0.86265653,  0.13187355,\n",
            "        0.18206002, -0.31804857,  0.970144  , -0.4824169 , -0.09286296,\n",
            "        0.56004214,  0.465387  ,  0.3391372 , -0.09586437,  0.9773499 ,\n",
            "        0.6127593 ,  0.28928745, -0.25483537, -0.34592795, -0.32724833,\n",
            "        0.00853048, -0.11022457, -0.733146  ,  0.22649285,  0.370822  ,\n",
            "        0.63115174,  1.0876839 ,  0.8919732 ,  0.39329934, -0.13772008,\n",
            "       -0.21217234, -0.00142901,  0.6261922 ,  0.10951797,  0.16124424,\n",
            "        0.7492433 , -0.39645988, -0.24143176,  0.47347838,  0.28358215],\n",
            "      dtype=float32)]\n"
          ]
        }
      ],
      "source": [
        "print(embedded_text[0])"
      ]
    }
  ],
  "metadata": {
    "colab": {
      "provenance": []
    },
    "kernelspec": {
      "display_name": "Python 3",
      "name": "python3"
    },
    "language_info": {
      "name": "python"
    }
  },
  "nbformat": 4,
  "nbformat_minor": 0
}
